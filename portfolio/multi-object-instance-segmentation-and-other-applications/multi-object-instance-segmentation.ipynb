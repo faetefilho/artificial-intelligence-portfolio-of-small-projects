{
 "cells": [
  {
   "cell_type": "code",
   "execution_count": 1,
   "metadata": {},
   "outputs": [],
   "source": [
    "from torch_snippets import *"
   ]
  },
  {
   "cell_type": "code",
   "execution_count": 2,
   "metadata": {},
   "outputs": [],
   "source": [
    "import wget"
   ]
  },
  {
   "cell_type": "code",
   "execution_count": 5,
   "metadata": {},
   "outputs": [
    {
     "data": {
      "text/plain": [
       "'D:\\\\datasets/train-annotations-object-segmentation.csv'"
      ]
     },
     "execution_count": 5,
     "metadata": {},
     "output_type": "execute_result"
    }
   ],
   "source": [
    "output_directory = 'D:\\datasets'\n",
    "url = 'https://storage.googleapis.com/openimages/v5/train-annotations-object-segmentation.csv'\n",
    "wget.download(url, out=output_directory)"
   ]
  },
  {
   "cell_type": "code",
   "execution_count": 6,
   "metadata": {},
   "outputs": [
    {
     "data": {
      "text/plain": [
       "'D:\\\\datasets/dict.csv'"
      ]
     },
     "execution_count": 6,
     "metadata": {},
     "output_type": "execute_result"
    }
   ],
   "source": [
    "output_directory = 'D:\\datasets'\n",
    "url = 'https://raw.githubusercontent.com/openimages/dataset/master/dict.csv'\n",
    "wget.download(url, out=output_directory)"
   ]
  },
  {
   "cell_type": "code",
   "execution_count": 3,
   "metadata": {},
   "outputs": [],
   "source": [
    "# specify the classes we want our model to predict\n",
    "required_classes = ['person', 'dog', 'bird', 'car', 'elephant', 'football', 'jug', 'laptop', 'Mushroom', 'Pizza', 'Rocket', 'Shirt', 'Traffic sign', 'Watermelon', 'Zebra']\n",
    "required_classes = [c.lower() for c in required_classes]\n"
   ]
  },
  {
   "cell_type": "code",
   "execution_count": 4,
   "metadata": {},
   "outputs": [],
   "source": [
    "import pandas as pd"
   ]
  },
  {
   "cell_type": "code",
   "execution_count": 5,
   "metadata": {},
   "outputs": [],
   "source": [
    "classes = pd.read_csv('D:\\datasets\\classes.csv', header=None)\n",
    "classes.columns = ['class', 'class_name']\n",
    "classes = classes[classes['class_name'].map(lambda x: x in required_classes ) ]"
   ]
  },
  {
   "cell_type": "code",
   "execution_count": 6,
   "metadata": {},
   "outputs": [
    {
     "name": "stdout",
     "output_type": "stream",
     "text": [
      "<class 'pandas.core.frame.DataFrame'>\n",
      "Int64Index: 15 entries, 43 to 7647\n",
      "Data columns (total 2 columns):\n",
      " #   Column      Non-Null Count  Dtype \n",
      "---  ------      --------------  ----- \n",
      " 0   class       15 non-null     object\n",
      " 1   class_name  15 non-null     object\n",
      "dtypes: object(2)\n",
      "memory usage: 360.0+ bytes\n"
     ]
    }
   ],
   "source": [
    "classes.info()"
   ]
  },
  {
   "cell_type": "code",
   "execution_count": 7,
   "metadata": {},
   "outputs": [
    {
     "data": {
      "text/html": [
       "<div>\n",
       "<style scoped>\n",
       "    .dataframe tbody tr th:only-of-type {\n",
       "        vertical-align: middle;\n",
       "    }\n",
       "\n",
       "    .dataframe tbody tr th {\n",
       "        vertical-align: top;\n",
       "    }\n",
       "\n",
       "    .dataframe thead th {\n",
       "        text-align: right;\n",
       "    }\n",
       "</style>\n",
       "<table border=\"1\" class=\"dataframe\">\n",
       "  <thead>\n",
       "    <tr style=\"text-align: right;\">\n",
       "      <th></th>\n",
       "      <th>class</th>\n",
       "      <th>class_name</th>\n",
       "    </tr>\n",
       "  </thead>\n",
       "  <tbody>\n",
       "    <tr>\n",
       "      <th>43</th>\n",
       "      <td>/m/01226z</td>\n",
       "      <td>football</td>\n",
       "    </tr>\n",
       "    <tr>\n",
       "      <th>224</th>\n",
       "      <td>/m/015p6</td>\n",
       "      <td>bird</td>\n",
       "    </tr>\n",
       "    <tr>\n",
       "      <th>601</th>\n",
       "      <td>/m/01c648</td>\n",
       "      <td>laptop</td>\n",
       "    </tr>\n",
       "    <tr>\n",
       "      <th>753</th>\n",
       "      <td>/m/01g317</td>\n",
       "      <td>person</td>\n",
       "    </tr>\n",
       "    <tr>\n",
       "      <th>1022</th>\n",
       "      <td>/m/01mqdt</td>\n",
       "      <td>traffic sign</td>\n",
       "    </tr>\n",
       "    <tr>\n",
       "      <th>1045</th>\n",
       "      <td>/m/01n4qj</td>\n",
       "      <td>shirt</td>\n",
       "    </tr>\n",
       "    <tr>\n",
       "      <th>2819</th>\n",
       "      <td>/m/02vx4</td>\n",
       "      <td>football</td>\n",
       "    </tr>\n",
       "    <tr>\n",
       "      <th>4675</th>\n",
       "      <td>/m/052sf</td>\n",
       "      <td>mushroom</td>\n",
       "    </tr>\n",
       "    <tr>\n",
       "      <th>5181</th>\n",
       "      <td>/m/0663v</td>\n",
       "      <td>pizza</td>\n",
       "    </tr>\n",
       "    <tr>\n",
       "      <th>5916</th>\n",
       "      <td>/m/0898b</td>\n",
       "      <td>zebra</td>\n",
       "    </tr>\n",
       "    <tr>\n",
       "      <th>5952</th>\n",
       "      <td>/m/08hvt4</td>\n",
       "      <td>jug</td>\n",
       "    </tr>\n",
       "    <tr>\n",
       "      <th>6217</th>\n",
       "      <td>/m/09rvcxw</td>\n",
       "      <td>rocket</td>\n",
       "    </tr>\n",
       "    <tr>\n",
       "      <th>6420</th>\n",
       "      <td>/m/0bt9lr</td>\n",
       "      <td>dog</td>\n",
       "    </tr>\n",
       "    <tr>\n",
       "      <th>6432</th>\n",
       "      <td>/m/0bwd_0j</td>\n",
       "      <td>elephant</td>\n",
       "    </tr>\n",
       "    <tr>\n",
       "      <th>7647</th>\n",
       "      <td>/m/0kpqd</td>\n",
       "      <td>watermelon</td>\n",
       "    </tr>\n",
       "  </tbody>\n",
       "</table>\n",
       "</div>"
      ],
      "text/plain": [
       "           class    class_name\n",
       "43     /m/01226z      football\n",
       "224     /m/015p6          bird\n",
       "601    /m/01c648        laptop\n",
       "753    /m/01g317        person\n",
       "1022   /m/01mqdt  traffic sign\n",
       "1045   /m/01n4qj         shirt\n",
       "2819    /m/02vx4      football\n",
       "4675    /m/052sf      mushroom\n",
       "5181    /m/0663v         pizza\n",
       "5916    /m/0898b         zebra\n",
       "5952   /m/08hvt4           jug\n",
       "6217  /m/09rvcxw        rocket\n",
       "6420   /m/0bt9lr           dog\n",
       "6432  /m/0bwd_0j      elephant\n",
       "7647    /m/0kpqd    watermelon"
      ]
     },
     "execution_count": 7,
     "metadata": {},
     "output_type": "execute_result"
    }
   ],
   "source": [
    "classes"
   ]
  },
  {
   "cell_type": "code",
   "execution_count": 8,
   "metadata": {},
   "outputs": [],
   "source": [
    "from torch_snippets import *"
   ]
  },
  {
   "cell_type": "code",
   "execution_count": 4,
   "metadata": {},
   "outputs": [],
   "source": [
    "# reading a large file in chunks and appending to a dataframe\n",
    "def read_csv_chunks(path, chunksize=1000):\n",
    "    df = pd.DataFrame()\n",
    "    for chunk in pd.read_csv(path, chunksize=chunksize):\n",
    "        df = df.append(chunk)\n",
    "    return df"
   ]
  },
  {
   "cell_type": "code",
   "execution_count": 9,
   "metadata": {},
   "outputs": [],
   "source": [
    "# df = pd.read_csv('D:/Datasets/annotations.csv', chunksize=1)\n",
    "df = pd.read_csv('D:/Datasets/annotations.csv')"
   ]
  },
  {
   "cell_type": "code",
   "execution_count": 10,
   "metadata": {},
   "outputs": [
    {
     "name": "stdout",
     "output_type": "stream",
     "text": [
      "<class 'pandas.core.frame.DataFrame'>\n",
      "RangeIndex: 2686666 entries, 0 to 2686665\n",
      "Data columns (total 10 columns):\n",
      " #   Column        Dtype  \n",
      "---  ------        -----  \n",
      " 0   MaskPath      object \n",
      " 1   ImageID       object \n",
      " 2   LabelName     object \n",
      " 3   BoxID         object \n",
      " 4   BoxXMin       float64\n",
      " 5   BoxXMax       float64\n",
      " 6   BoxYMin       float64\n",
      " 7   BoxYMax       float64\n",
      " 8   PredictedIoU  float64\n",
      " 9   Clicks        object \n",
      "dtypes: float64(5), object(5)\n",
      "memory usage: 205.0+ MB\n"
     ]
    }
   ],
   "source": [
    "df.info()"
   ]
  },
  {
   "cell_type": "code",
   "execution_count": 11,
   "metadata": {},
   "outputs": [],
   "source": [
    "data  = pd.merge(df, classes, left_on='LabelName', right_on='class')"
   ]
  },
  {
   "cell_type": "code",
   "execution_count": 12,
   "metadata": {},
   "outputs": [],
   "source": [
    "# fetching fewer images for each class\n",
    "subset_data = data.groupby('class_name').agg({'ImageID': lambda x: list(x)[:1000]})  # fetching 1000 images for each class\n",
    "subset_data = flatten(subset_data.ImageID.tolist())\n",
    "subset_data = data[data['ImageID'].map(lambda x: x in subset_data)]\n",
    "subset_masks = subset_data['MaskPath'].tolist()"
   ]
  },
  {
   "cell_type": "code",
   "execution_count": 13,
   "metadata": {},
   "outputs": [
    {
     "data": {
      "text/plain": [
       "['18c1fd8342d55af8_m01g317_a9a97702.png',\n",
       " '42ea7facefea9a28_m01g317_333376e6.png',\n",
       " 'bcb123bf7f256b1c_m01g317_a42b01bc.png',\n",
       " 'a2bb5944e071223c_m01g317_7ef4ab8d.png',\n",
       " '4fd2304f1f65dc74_m01g317_336e67e1.png',\n",
       " '0113dbe2b087bd55_m01g317_d606a644.png',\n",
       " 'cc8c1cec5a263473_m01g317_5dd13cd7.png',\n",
       " 'd6dc04e65df11e78_m01g317_cfc9e8e5.png',\n",
       " 'db35878a7d398f65_m01g317_d61cc87b.png']"
      ]
     },
     "execution_count": 13,
     "metadata": {},
     "output_type": "execute_result"
    }
   ],
   "source": [
    "subset_masks[1:10]"
   ]
  },
  {
   "cell_type": "code",
   "execution_count": 14,
   "metadata": {},
   "outputs": [
    {
     "data": {
      "text/html": [
       "<div>\n",
       "<style scoped>\n",
       "    .dataframe tbody tr th:only-of-type {\n",
       "        vertical-align: middle;\n",
       "    }\n",
       "\n",
       "    .dataframe tbody tr th {\n",
       "        vertical-align: top;\n",
       "    }\n",
       "\n",
       "    .dataframe thead th {\n",
       "        text-align: right;\n",
       "    }\n",
       "</style>\n",
       "<table border=\"1\" class=\"dataframe\">\n",
       "  <thead>\n",
       "    <tr style=\"text-align: right;\">\n",
       "      <th></th>\n",
       "      <th>MaskPath</th>\n",
       "      <th>ImageID</th>\n",
       "      <th>LabelName</th>\n",
       "      <th>BoxID</th>\n",
       "      <th>BoxXMin</th>\n",
       "      <th>BoxXMax</th>\n",
       "      <th>BoxYMin</th>\n",
       "      <th>BoxYMax</th>\n",
       "      <th>PredictedIoU</th>\n",
       "      <th>Clicks</th>\n",
       "      <th>class</th>\n",
       "      <th>class_name</th>\n",
       "    </tr>\n",
       "  </thead>\n",
       "  <tbody>\n",
       "    <tr>\n",
       "      <th>0</th>\n",
       "      <td>e9a7da5ff1fd56df_m01g317_1803811b.png</td>\n",
       "      <td>e9a7da5ff1fd56df</td>\n",
       "      <td>/m/01g317</td>\n",
       "      <td>1803811b</td>\n",
       "      <td>0.468125</td>\n",
       "      <td>0.628750</td>\n",
       "      <td>0.188714</td>\n",
       "      <td>0.949121</td>\n",
       "      <td>0.86841</td>\n",
       "      <td>0.47513 0.38255 1;0.52118 0.91333 0;0.47513 0....</td>\n",
       "      <td>/m/01g317</td>\n",
       "      <td>person</td>\n",
       "    </tr>\n",
       "    <tr>\n",
       "      <th>1</th>\n",
       "      <td>18c1fd8342d55af8_m01g317_a9a97702.png</td>\n",
       "      <td>18c1fd8342d55af8</td>\n",
       "      <td>/m/01g317</td>\n",
       "      <td>a9a97702</td>\n",
       "      <td>0.394375</td>\n",
       "      <td>0.605000</td>\n",
       "      <td>0.241667</td>\n",
       "      <td>0.903333</td>\n",
       "      <td>0.81242</td>\n",
       "      <td>0.57036 0.81358 1;0.54599 0.65655 0;0.42280 0....</td>\n",
       "      <td>/m/01g317</td>\n",
       "      <td>person</td>\n",
       "    </tr>\n",
       "    <tr>\n",
       "      <th>2</th>\n",
       "      <td>42ea7facefea9a28_m01g317_333376e6.png</td>\n",
       "      <td>42ea7facefea9a28</td>\n",
       "      <td>/m/01g317</td>\n",
       "      <td>333376e6</td>\n",
       "      <td>0.791875</td>\n",
       "      <td>0.839375</td>\n",
       "      <td>0.096226</td>\n",
       "      <td>0.184906</td>\n",
       "      <td>0.64984</td>\n",
       "      <td>0.79876 0.17372 1;0.84756 0.19868 1;0.80936 0....</td>\n",
       "      <td>/m/01g317</td>\n",
       "      <td>person</td>\n",
       "    </tr>\n",
       "    <tr>\n",
       "      <th>3</th>\n",
       "      <td>bcb123bf7f256b1c_m01g317_a42b01bc.png</td>\n",
       "      <td>bcb123bf7f256b1c</td>\n",
       "      <td>/m/01g317</td>\n",
       "      <td>a42b01bc</td>\n",
       "      <td>0.478125</td>\n",
       "      <td>0.518750</td>\n",
       "      <td>0.450797</td>\n",
       "      <td>0.604499</td>\n",
       "      <td>0.77027</td>\n",
       "      <td>0.49924 0.57654 0;0.50731 0.45367 1;0.49108 0....</td>\n",
       "      <td>/m/01g317</td>\n",
       "      <td>person</td>\n",
       "    </tr>\n",
       "    <tr>\n",
       "      <th>4</th>\n",
       "      <td>a2bb5944e071223c_m01g317_7ef4ab8d.png</td>\n",
       "      <td>a2bb5944e071223c</td>\n",
       "      <td>/m/01g317</td>\n",
       "      <td>7ef4ab8d</td>\n",
       "      <td>0.738750</td>\n",
       "      <td>0.861250</td>\n",
       "      <td>0.508333</td>\n",
       "      <td>0.631667</td>\n",
       "      <td>0.71815</td>\n",
       "      <td>0.79186 0.54778 0;0.80219 0.52627 1;0.84317 0....</td>\n",
       "      <td>/m/01g317</td>\n",
       "      <td>person</td>\n",
       "    </tr>\n",
       "    <tr>\n",
       "      <th>...</th>\n",
       "      <td>...</td>\n",
       "      <td>...</td>\n",
       "      <td>...</td>\n",
       "      <td>...</td>\n",
       "      <td>...</td>\n",
       "      <td>...</td>\n",
       "      <td>...</td>\n",
       "      <td>...</td>\n",
       "      <td>...</td>\n",
       "      <td>...</td>\n",
       "      <td>...</td>\n",
       "      <td>...</td>\n",
       "    </tr>\n",
       "    <tr>\n",
       "      <th>226635</th>\n",
       "      <td>19b9b7acfefbd162_m08hvt4_1682655d.png</td>\n",
       "      <td>19b9b7acfefbd162</td>\n",
       "      <td>/m/08hvt4</td>\n",
       "      <td>1682655d</td>\n",
       "      <td>0.631250</td>\n",
       "      <td>0.928750</td>\n",
       "      <td>0.296667</td>\n",
       "      <td>0.802500</td>\n",
       "      <td>0.90699</td>\n",
       "      <td>0.91454 0.35031 0;0.92895 0.53163 0;0.93898 0....</td>\n",
       "      <td>/m/08hvt4</td>\n",
       "      <td>jug</td>\n",
       "    </tr>\n",
       "    <tr>\n",
       "      <th>226636</th>\n",
       "      <td>7d9fd88b2699cc6d_m08hvt4_d785dbd9.png</td>\n",
       "      <td>7d9fd88b2699cc6d</td>\n",
       "      <td>/m/08hvt4</td>\n",
       "      <td>d785dbd9</td>\n",
       "      <td>0.513125</td>\n",
       "      <td>0.659375</td>\n",
       "      <td>0.298311</td>\n",
       "      <td>0.608818</td>\n",
       "      <td>0.81158</td>\n",
       "      <td>0.65518 0.33896 1;0.62441 0.44468 0;0.65074 0....</td>\n",
       "      <td>/m/08hvt4</td>\n",
       "      <td>jug</td>\n",
       "    </tr>\n",
       "    <tr>\n",
       "      <th>226637</th>\n",
       "      <td>1c5f7fc01eea9b1a_m08hvt4_2f96d800.png</td>\n",
       "      <td>1c5f7fc01eea9b1a</td>\n",
       "      <td>/m/08hvt4</td>\n",
       "      <td>2f96d800</td>\n",
       "      <td>0.355000</td>\n",
       "      <td>0.511250</td>\n",
       "      <td>0.579737</td>\n",
       "      <td>0.881801</td>\n",
       "      <td>0.84473</td>\n",
       "      <td>0.46071 0.64206 1;0.50700 0.64289 1;0.37250 0....</td>\n",
       "      <td>/m/08hvt4</td>\n",
       "      <td>jug</td>\n",
       "    </tr>\n",
       "    <tr>\n",
       "      <th>226638</th>\n",
       "      <td>6085ff0ae91fb440_m08hvt4_4aeb7989.png</td>\n",
       "      <td>6085ff0ae91fb440</td>\n",
       "      <td>/m/08hvt4</td>\n",
       "      <td>4aeb7989</td>\n",
       "      <td>0.344278</td>\n",
       "      <td>0.651032</td>\n",
       "      <td>0.683750</td>\n",
       "      <td>0.901250</td>\n",
       "      <td>0.84358</td>\n",
       "      <td>0.35302 0.76069 1;0.39130 0.72297 0;0.41286 0....</td>\n",
       "      <td>/m/08hvt4</td>\n",
       "      <td>jug</td>\n",
       "    </tr>\n",
       "    <tr>\n",
       "      <th>226639</th>\n",
       "      <td>8689ecab1fa0f746_m08hvt4_380a7674.png</td>\n",
       "      <td>8689ecab1fa0f746</td>\n",
       "      <td>/m/08hvt4</td>\n",
       "      <td>380a7674</td>\n",
       "      <td>0.532392</td>\n",
       "      <td>0.800664</td>\n",
       "      <td>0.650625</td>\n",
       "      <td>0.956250</td>\n",
       "      <td>0.78558</td>\n",
       "      <td>0.71548 0.71458 1;0.78449 0.76064 1;0.58971 0....</td>\n",
       "      <td>/m/08hvt4</td>\n",
       "      <td>jug</td>\n",
       "    </tr>\n",
       "  </tbody>\n",
       "</table>\n",
       "<p>23053 rows × 12 columns</p>\n",
       "</div>"
      ],
      "text/plain": [
       "                                     MaskPath           ImageID  LabelName  \\\n",
       "0       e9a7da5ff1fd56df_m01g317_1803811b.png  e9a7da5ff1fd56df  /m/01g317   \n",
       "1       18c1fd8342d55af8_m01g317_a9a97702.png  18c1fd8342d55af8  /m/01g317   \n",
       "2       42ea7facefea9a28_m01g317_333376e6.png  42ea7facefea9a28  /m/01g317   \n",
       "3       bcb123bf7f256b1c_m01g317_a42b01bc.png  bcb123bf7f256b1c  /m/01g317   \n",
       "4       a2bb5944e071223c_m01g317_7ef4ab8d.png  a2bb5944e071223c  /m/01g317   \n",
       "...                                       ...               ...        ...   \n",
       "226635  19b9b7acfefbd162_m08hvt4_1682655d.png  19b9b7acfefbd162  /m/08hvt4   \n",
       "226636  7d9fd88b2699cc6d_m08hvt4_d785dbd9.png  7d9fd88b2699cc6d  /m/08hvt4   \n",
       "226637  1c5f7fc01eea9b1a_m08hvt4_2f96d800.png  1c5f7fc01eea9b1a  /m/08hvt4   \n",
       "226638  6085ff0ae91fb440_m08hvt4_4aeb7989.png  6085ff0ae91fb440  /m/08hvt4   \n",
       "226639  8689ecab1fa0f746_m08hvt4_380a7674.png  8689ecab1fa0f746  /m/08hvt4   \n",
       "\n",
       "           BoxID   BoxXMin   BoxXMax   BoxYMin   BoxYMax  PredictedIoU  \\\n",
       "0       1803811b  0.468125  0.628750  0.188714  0.949121       0.86841   \n",
       "1       a9a97702  0.394375  0.605000  0.241667  0.903333       0.81242   \n",
       "2       333376e6  0.791875  0.839375  0.096226  0.184906       0.64984   \n",
       "3       a42b01bc  0.478125  0.518750  0.450797  0.604499       0.77027   \n",
       "4       7ef4ab8d  0.738750  0.861250  0.508333  0.631667       0.71815   \n",
       "...          ...       ...       ...       ...       ...           ...   \n",
       "226635  1682655d  0.631250  0.928750  0.296667  0.802500       0.90699   \n",
       "226636  d785dbd9  0.513125  0.659375  0.298311  0.608818       0.81158   \n",
       "226637  2f96d800  0.355000  0.511250  0.579737  0.881801       0.84473   \n",
       "226638  4aeb7989  0.344278  0.651032  0.683750  0.901250       0.84358   \n",
       "226639  380a7674  0.532392  0.800664  0.650625  0.956250       0.78558   \n",
       "\n",
       "                                                   Clicks      class  \\\n",
       "0       0.47513 0.38255 1;0.52118 0.91333 0;0.47513 0....  /m/01g317   \n",
       "1       0.57036 0.81358 1;0.54599 0.65655 0;0.42280 0....  /m/01g317   \n",
       "2       0.79876 0.17372 1;0.84756 0.19868 1;0.80936 0....  /m/01g317   \n",
       "3       0.49924 0.57654 0;0.50731 0.45367 1;0.49108 0....  /m/01g317   \n",
       "4       0.79186 0.54778 0;0.80219 0.52627 1;0.84317 0....  /m/01g317   \n",
       "...                                                   ...        ...   \n",
       "226635  0.91454 0.35031 0;0.92895 0.53163 0;0.93898 0....  /m/08hvt4   \n",
       "226636  0.65518 0.33896 1;0.62441 0.44468 0;0.65074 0....  /m/08hvt4   \n",
       "226637  0.46071 0.64206 1;0.50700 0.64289 1;0.37250 0....  /m/08hvt4   \n",
       "226638  0.35302 0.76069 1;0.39130 0.72297 0;0.41286 0....  /m/08hvt4   \n",
       "226639  0.71548 0.71458 1;0.78449 0.76064 1;0.58971 0....  /m/08hvt4   \n",
       "\n",
       "       class_name  \n",
       "0          person  \n",
       "1          person  \n",
       "2          person  \n",
       "3          person  \n",
       "4          person  \n",
       "...           ...  \n",
       "226635        jug  \n",
       "226636        jug  \n",
       "226637        jug  \n",
       "226638        jug  \n",
       "226639        jug  \n",
       "\n",
       "[23053 rows x 12 columns]"
      ]
     },
     "execution_count": 14,
     "metadata": {},
     "output_type": "execute_result"
    }
   ],
   "source": [
    "subset_data"
   ]
  },
  {
   "cell_type": "code",
   "execution_count": 32,
   "metadata": {},
   "outputs": [
    {
     "data": {
      "text/plain": [
       "'D:/datasets/detection/masks/train-masks-4.zip'"
      ]
     },
     "execution_count": 32,
     "metadata": {},
     "output_type": "execute_result"
    }
   ],
   "source": [
    "wget.download('https://storage.googleapis.com/openimages/v5/train-masks/train-masks-4.zip', out='D:/datasets/detection/masks')"
   ]
  },
  {
   "cell_type": "code",
   "execution_count": 33,
   "metadata": {},
   "outputs": [
    {
     "data": {
      "text/plain": [
       "'D:/datasets/detection/masks/train-masks-f.zip'"
      ]
     },
     "execution_count": 33,
     "metadata": {},
     "output_type": "execute_result"
    }
   ],
   "source": [
    "wget.download('https://storage.googleapis.com/openimages/v5/train-masks/train-masks-5.zip', out='D:/datasets/detection/masks')\n",
    "wget.download('https://storage.googleapis.com/openimages/v5/train-masks/train-masks-6.zip', out='D:/datasets/detection/masks')\n",
    "wget.download('https://storage.googleapis.com/openimages/v5/train-masks/train-masks-7.zip', out='D:/datasets/detection/masks')\n",
    "wget.download('https://storage.googleapis.com/openimages/v5/train-masks/train-masks-8.zip', out='D:/datasets/detection/masks')\n",
    "wget.download('https://storage.googleapis.com/openimages/v5/train-masks/train-masks-9.zip', out='D:/datasets/detection/masks')\n",
    "wget.download('https://storage.googleapis.com/openimages/v5/train-masks/train-masks-a.zip', out='D:/datasets/detection/masks')\n",
    "wget.download('https://storage.googleapis.com/openimages/v5/train-masks/train-masks-b.zip', out='D:/datasets/detection/masks')\n",
    "wget.download('https://storage.googleapis.com/openimages/v5/train-masks/train-masks-c.zip', out='D:/datasets/detection/masks')\n",
    "wget.download('https://storage.googleapis.com/openimages/v5/train-masks/train-masks-d.zip', out='D:/datasets/detection/masks')\n",
    "wget.download('https://storage.googleapis.com/openimages/v5/train-masks/train-masks-e.zip', out='D:/datasets/detection/masks')\n",
    "wget.download('https://storage.googleapis.com/openimages/v5/train-masks/train-masks-f.zip', out='D:/datasets/detection/masks')"
   ]
  },
  {
   "cell_type": "code",
   "execution_count": 34,
   "metadata": {},
   "outputs": [
    {
     "data": {
      "text/plain": [
       "['train-masks-0.zip',\n",
       " 'train-masks-1.zip',\n",
       " 'train-masks-2.zip',\n",
       " 'train-masks-3.zip',\n",
       " 'train-masks-4.zip',\n",
       " 'train-masks-5.zip',\n",
       " 'train-masks-6.zip',\n",
       " 'train-masks-7.zip',\n",
       " 'train-masks-8.zip',\n",
       " 'train-masks-9.zip',\n",
       " 'train-masks-a.zip',\n",
       " 'train-masks-b.zip',\n",
       " 'train-masks-c.zip',\n",
       " 'train-masks-d.zip',\n",
       " 'train-masks-e.zip',\n",
       " 'train-masks-f.zip']"
      ]
     },
     "execution_count": 34,
     "metadata": {},
     "output_type": "execute_result"
    }
   ],
   "source": [
    "os.listdir('D:/datasets/detection/masks')"
   ]
  },
  {
   "cell_type": "code",
   "execution_count": 35,
   "metadata": {},
   "outputs": [],
   "source": [
    "# unzip the files\n",
    "import zipfile\n",
    "import os\n",
    "# path to the folder with all the zipped files\n",
    "folder = 'D:/datasets/detection/masks'\n",
    "for filename in os.listdir(folder):\n",
    "    file_path = os.path.join(folder, filename)\n",
    "    zip_ref = zipfile.ZipFile(file_path, 'r')\n",
    "    zip_ref.extractall(folder)\n",
    "    zip_ref.close()"
   ]
  },
  {
   "cell_type": "code",
   "execution_count": 36,
   "metadata": {},
   "outputs": [],
   "source": [
    "# delete the zip files, to save space\n",
    "for filename in os.listdir(folder):\n",
    "    file_path = os.path.join(folder, filename)\n",
    "    if file_path.endswith('.zip'):\n",
    "        os.remove(file_path)"
   ]
  },
  {
   "cell_type": "code",
   "execution_count": 15,
   "metadata": {},
   "outputs": [],
   "source": [
    "# get the list of all the masks\n",
    "tmp_masks = Glob('D:/datasets/detection/masks/*', silent=True)"
   ]
  },
  {
   "cell_type": "code",
   "execution_count": 16,
   "metadata": {},
   "outputs": [
    {
     "data": {
      "text/plain": [
       "[» D:\\datasets\\detection\\masks\\0000048549557964_m0k4j_1232f6e4.png,\n",
       " » D:\\datasets\\detection\\masks\\0000048549557964_m0k4j_22dcf663.png,\n",
       " » D:\\datasets\\detection\\masks\\0000048549557964_m0k4j_d5cba825.png,\n",
       " » D:\\datasets\\detection\\masks\\0000048549557964_m0pg52_93cba453.png]"
      ]
     },
     "execution_count": 16,
     "metadata": {},
     "output_type": "execute_result"
    }
   ],
   "source": [
    "tmp_masks[1:5]"
   ]
  },
  {
   "cell_type": "code",
   "execution_count": 17,
   "metadata": {},
   "outputs": [],
   "source": [
    "# only file name from windows path object\n",
    "tmp_masks_file_name = [os.path.basename(oldname) for oldname in tmp_masks]"
   ]
  },
  {
   "cell_type": "code",
   "execution_count": 18,
   "metadata": {},
   "outputs": [
    {
     "data": {
      "text/plain": [
       "['0000048549557964_m0k4j_0f7c02af.png',\n",
       " '0000048549557964_m0k4j_1232f6e4.png',\n",
       " '0000048549557964_m0k4j_22dcf663.png',\n",
       " '0000048549557964_m0k4j_d5cba825.png']"
      ]
     },
     "execution_count": 18,
     "metadata": {},
     "output_type": "execute_result"
    }
   ],
   "source": [
    "tmp_masks_file_name[0:4]"
   ]
  },
  {
   "cell_type": "code",
   "execution_count": 32,
   "metadata": {},
   "outputs": [
    {
     "data": {
      "text/plain": [
       "'0000048549557964_m0k4j_0f7c02af.png'"
      ]
     },
     "execution_count": 32,
     "metadata": {},
     "output_type": "execute_result"
    }
   ],
   "source": [
    "os.path.basename(tmp_masks[0])"
   ]
  },
  {
   "cell_type": "code",
   "execution_count": 29,
   "metadata": {},
   "outputs": [
    {
     "data": {
      "text/plain": [
       "['e9a7da5ff1fd56df_m01g317_1803811b.png',\n",
       " '18c1fd8342d55af8_m01g317_a9a97702.png']"
      ]
     },
     "execution_count": 29,
     "metadata": {},
     "output_type": "execute_result"
    }
   ],
   "source": [
    "subset_masks[0:2]"
   ]
  },
  {
   "cell_type": "code",
   "execution_count": 22,
   "metadata": {},
   "outputs": [],
   "source": [
    "# get the list of masks that are in the subset\n",
    "# items = [(m, os.path.basename(m)) for m in tmp_masks if os.path.basename(m) in subset_masks]"
   ]
  },
  {
   "cell_type": "code",
   "execution_count": 33,
   "metadata": {},
   "outputs": [],
   "source": [
    "# get the list of masks that are in the subset\n",
    "items = [m for m in tmp_masks_file_name if m in subset_masks]"
   ]
  },
  {
   "cell_type": "code",
   "execution_count": null,
   "metadata": {},
   "outputs": [],
   "source": []
  },
  {
   "cell_type": "code",
   "execution_count": 35,
   "metadata": {},
   "outputs": [
    {
     "data": {
      "text/plain": [
       "0"
      ]
     },
     "execution_count": 35,
     "metadata": {},
     "output_type": "execute_result"
    }
   ],
   "source": [
    "len(items)"
   ]
  },
  {
   "cell_type": "code",
   "execution_count": 36,
   "metadata": {},
   "outputs": [
    {
     "data": {
      "text/plain": [
       "[]"
      ]
     },
     "execution_count": 36,
     "metadata": {},
     "output_type": "execute_result"
    }
   ],
   "source": [
    "items[0:2]"
   ]
  },
  {
   "cell_type": "code",
   "execution_count": 25,
   "metadata": {},
   "outputs": [],
   "source": [
    "# rename files and transfer to a new folder\n",
    "for m, f in items:\n",
    "    os.rename(m, f'D:/datasets/detection/final_masks/{f}')\n"
   ]
  },
  {
   "cell_type": "code",
   "execution_count": 37,
   "metadata": {},
   "outputs": [],
   "source": [
    "masks = Glob('D:/datasets/detection/final_masks/*', silent=True)"
   ]
  },
  {
   "cell_type": "code",
   "execution_count": 38,
   "metadata": {},
   "outputs": [
    {
     "data": {
      "text/plain": [
       "[]"
      ]
     },
     "execution_count": 38,
     "metadata": {},
     "output_type": "execute_result"
    }
   ],
   "source": [
    "masks[0:2]"
   ]
  },
  {
   "cell_type": "code",
   "execution_count": 28,
   "metadata": {},
   "outputs": [
    {
     "ename": "IndexError",
     "evalue": "list index out of range",
     "output_type": "error",
     "traceback": [
      "\u001b[1;31m---------------------------------------------------------------------------\u001b[0m",
      "\u001b[1;31mIndexError\u001b[0m                                Traceback (most recent call last)",
      "Cell \u001b[1;32mIn[28], line 1\u001b[0m\n\u001b[1;32m----> 1\u001b[0m os\u001b[39m.\u001b[39mpath\u001b[39m.\u001b[39mbasename(masks[\u001b[39m0\u001b[39;49m])\n",
      "\u001b[1;31mIndexError\u001b[0m: list index out of range"
     ]
    }
   ],
   "source": [
    "os.path.basename(masks[0])"
   ]
  },
  {
   "cell_type": "code",
   "execution_count": null,
   "metadata": {},
   "outputs": [],
   "source": [
    "masks = [os.path.basename(m) for m in masks]"
   ]
  },
  {
   "cell_type": "code",
   "execution_count": null,
   "metadata": {},
   "outputs": [
    {
     "data": {
      "text/plain": [
       "['000033469fb48bc1_m01n4qj_378b9f3a.png',\n",
       " '000033469fb48bc1_m01n4qj_6ff14b4c.png']"
      ]
     },
     "execution_count": 104,
     "metadata": {},
     "output_type": "execute_result"
    }
   ],
   "source": [
    "masks[0:2]"
   ]
  },
  {
   "cell_type": "code",
   "execution_count": null,
   "metadata": {},
   "outputs": [
    {
     "data": {
      "text/html": [
       "<div>\n",
       "<style scoped>\n",
       "    .dataframe tbody tr th:only-of-type {\n",
       "        vertical-align: middle;\n",
       "    }\n",
       "\n",
       "    .dataframe tbody tr th {\n",
       "        vertical-align: top;\n",
       "    }\n",
       "\n",
       "    .dataframe thead th {\n",
       "        text-align: right;\n",
       "    }\n",
       "</style>\n",
       "<table border=\"1\" class=\"dataframe\">\n",
       "  <thead>\n",
       "    <tr style=\"text-align: right;\">\n",
       "      <th></th>\n",
       "      <th>MaskPath</th>\n",
       "      <th>ImageID</th>\n",
       "      <th>LabelName</th>\n",
       "      <th>BoxID</th>\n",
       "      <th>BoxXMin</th>\n",
       "      <th>BoxXMax</th>\n",
       "      <th>BoxYMin</th>\n",
       "      <th>BoxYMax</th>\n",
       "      <th>PredictedIoU</th>\n",
       "      <th>Clicks</th>\n",
       "      <th>class</th>\n",
       "      <th>class_name</th>\n",
       "    </tr>\n",
       "  </thead>\n",
       "  <tbody>\n",
       "    <tr>\n",
       "      <th>0</th>\n",
       "      <td>e9a7da5ff1fd56df_m01g317_1803811b.png</td>\n",
       "      <td>e9a7da5ff1fd56df</td>\n",
       "      <td>/m/01g317</td>\n",
       "      <td>1803811b</td>\n",
       "      <td>0.468125</td>\n",
       "      <td>0.628750</td>\n",
       "      <td>0.188714</td>\n",
       "      <td>0.949121</td>\n",
       "      <td>0.86841</td>\n",
       "      <td>0.47513 0.38255 1;0.52118 0.91333 0;0.47513 0....</td>\n",
       "      <td>/m/01g317</td>\n",
       "      <td>person</td>\n",
       "    </tr>\n",
       "    <tr>\n",
       "      <th>1</th>\n",
       "      <td>18c1fd8342d55af8_m01g317_a9a97702.png</td>\n",
       "      <td>18c1fd8342d55af8</td>\n",
       "      <td>/m/01g317</td>\n",
       "      <td>a9a97702</td>\n",
       "      <td>0.394375</td>\n",
       "      <td>0.605000</td>\n",
       "      <td>0.241667</td>\n",
       "      <td>0.903333</td>\n",
       "      <td>0.81242</td>\n",
       "      <td>0.57036 0.81358 1;0.54599 0.65655 0;0.42280 0....</td>\n",
       "      <td>/m/01g317</td>\n",
       "      <td>person</td>\n",
       "    </tr>\n",
       "    <tr>\n",
       "      <th>2</th>\n",
       "      <td>42ea7facefea9a28_m01g317_333376e6.png</td>\n",
       "      <td>42ea7facefea9a28</td>\n",
       "      <td>/m/01g317</td>\n",
       "      <td>333376e6</td>\n",
       "      <td>0.791875</td>\n",
       "      <td>0.839375</td>\n",
       "      <td>0.096226</td>\n",
       "      <td>0.184906</td>\n",
       "      <td>0.64984</td>\n",
       "      <td>0.79876 0.17372 1;0.84756 0.19868 1;0.80936 0....</td>\n",
       "      <td>/m/01g317</td>\n",
       "      <td>person</td>\n",
       "    </tr>\n",
       "    <tr>\n",
       "      <th>3</th>\n",
       "      <td>bcb123bf7f256b1c_m01g317_a42b01bc.png</td>\n",
       "      <td>bcb123bf7f256b1c</td>\n",
       "      <td>/m/01g317</td>\n",
       "      <td>a42b01bc</td>\n",
       "      <td>0.478125</td>\n",
       "      <td>0.518750</td>\n",
       "      <td>0.450797</td>\n",
       "      <td>0.604499</td>\n",
       "      <td>0.77027</td>\n",
       "      <td>0.49924 0.57654 0;0.50731 0.45367 1;0.49108 0....</td>\n",
       "      <td>/m/01g317</td>\n",
       "      <td>person</td>\n",
       "    </tr>\n",
       "    <tr>\n",
       "      <th>4</th>\n",
       "      <td>a2bb5944e071223c_m01g317_7ef4ab8d.png</td>\n",
       "      <td>a2bb5944e071223c</td>\n",
       "      <td>/m/01g317</td>\n",
       "      <td>7ef4ab8d</td>\n",
       "      <td>0.738750</td>\n",
       "      <td>0.861250</td>\n",
       "      <td>0.508333</td>\n",
       "      <td>0.631667</td>\n",
       "      <td>0.71815</td>\n",
       "      <td>0.79186 0.54778 0;0.80219 0.52627 1;0.84317 0....</td>\n",
       "      <td>/m/01g317</td>\n",
       "      <td>person</td>\n",
       "    </tr>\n",
       "    <tr>\n",
       "      <th>...</th>\n",
       "      <td>...</td>\n",
       "      <td>...</td>\n",
       "      <td>...</td>\n",
       "      <td>...</td>\n",
       "      <td>...</td>\n",
       "      <td>...</td>\n",
       "      <td>...</td>\n",
       "      <td>...</td>\n",
       "      <td>...</td>\n",
       "      <td>...</td>\n",
       "      <td>...</td>\n",
       "      <td>...</td>\n",
       "    </tr>\n",
       "    <tr>\n",
       "      <th>226635</th>\n",
       "      <td>19b9b7acfefbd162_m08hvt4_1682655d.png</td>\n",
       "      <td>19b9b7acfefbd162</td>\n",
       "      <td>/m/08hvt4</td>\n",
       "      <td>1682655d</td>\n",
       "      <td>0.631250</td>\n",
       "      <td>0.928750</td>\n",
       "      <td>0.296667</td>\n",
       "      <td>0.802500</td>\n",
       "      <td>0.90699</td>\n",
       "      <td>0.91454 0.35031 0;0.92895 0.53163 0;0.93898 0....</td>\n",
       "      <td>/m/08hvt4</td>\n",
       "      <td>jug</td>\n",
       "    </tr>\n",
       "    <tr>\n",
       "      <th>226636</th>\n",
       "      <td>7d9fd88b2699cc6d_m08hvt4_d785dbd9.png</td>\n",
       "      <td>7d9fd88b2699cc6d</td>\n",
       "      <td>/m/08hvt4</td>\n",
       "      <td>d785dbd9</td>\n",
       "      <td>0.513125</td>\n",
       "      <td>0.659375</td>\n",
       "      <td>0.298311</td>\n",
       "      <td>0.608818</td>\n",
       "      <td>0.81158</td>\n",
       "      <td>0.65518 0.33896 1;0.62441 0.44468 0;0.65074 0....</td>\n",
       "      <td>/m/08hvt4</td>\n",
       "      <td>jug</td>\n",
       "    </tr>\n",
       "    <tr>\n",
       "      <th>226637</th>\n",
       "      <td>1c5f7fc01eea9b1a_m08hvt4_2f96d800.png</td>\n",
       "      <td>1c5f7fc01eea9b1a</td>\n",
       "      <td>/m/08hvt4</td>\n",
       "      <td>2f96d800</td>\n",
       "      <td>0.355000</td>\n",
       "      <td>0.511250</td>\n",
       "      <td>0.579737</td>\n",
       "      <td>0.881801</td>\n",
       "      <td>0.84473</td>\n",
       "      <td>0.46071 0.64206 1;0.50700 0.64289 1;0.37250 0....</td>\n",
       "      <td>/m/08hvt4</td>\n",
       "      <td>jug</td>\n",
       "    </tr>\n",
       "    <tr>\n",
       "      <th>226638</th>\n",
       "      <td>6085ff0ae91fb440_m08hvt4_4aeb7989.png</td>\n",
       "      <td>6085ff0ae91fb440</td>\n",
       "      <td>/m/08hvt4</td>\n",
       "      <td>4aeb7989</td>\n",
       "      <td>0.344278</td>\n",
       "      <td>0.651032</td>\n",
       "      <td>0.683750</td>\n",
       "      <td>0.901250</td>\n",
       "      <td>0.84358</td>\n",
       "      <td>0.35302 0.76069 1;0.39130 0.72297 0;0.41286 0....</td>\n",
       "      <td>/m/08hvt4</td>\n",
       "      <td>jug</td>\n",
       "    </tr>\n",
       "    <tr>\n",
       "      <th>226639</th>\n",
       "      <td>8689ecab1fa0f746_m08hvt4_380a7674.png</td>\n",
       "      <td>8689ecab1fa0f746</td>\n",
       "      <td>/m/08hvt4</td>\n",
       "      <td>380a7674</td>\n",
       "      <td>0.532392</td>\n",
       "      <td>0.800664</td>\n",
       "      <td>0.650625</td>\n",
       "      <td>0.956250</td>\n",
       "      <td>0.78558</td>\n",
       "      <td>0.71548 0.71458 1;0.78449 0.76064 1;0.58971 0....</td>\n",
       "      <td>/m/08hvt4</td>\n",
       "      <td>jug</td>\n",
       "    </tr>\n",
       "  </tbody>\n",
       "</table>\n",
       "<p>23053 rows × 12 columns</p>\n",
       "</div>"
      ],
      "text/plain": [
       "                                     MaskPath           ImageID  LabelName  \\\n",
       "0       e9a7da5ff1fd56df_m01g317_1803811b.png  e9a7da5ff1fd56df  /m/01g317   \n",
       "1       18c1fd8342d55af8_m01g317_a9a97702.png  18c1fd8342d55af8  /m/01g317   \n",
       "2       42ea7facefea9a28_m01g317_333376e6.png  42ea7facefea9a28  /m/01g317   \n",
       "3       bcb123bf7f256b1c_m01g317_a42b01bc.png  bcb123bf7f256b1c  /m/01g317   \n",
       "4       a2bb5944e071223c_m01g317_7ef4ab8d.png  a2bb5944e071223c  /m/01g317   \n",
       "...                                       ...               ...        ...   \n",
       "226635  19b9b7acfefbd162_m08hvt4_1682655d.png  19b9b7acfefbd162  /m/08hvt4   \n",
       "226636  7d9fd88b2699cc6d_m08hvt4_d785dbd9.png  7d9fd88b2699cc6d  /m/08hvt4   \n",
       "226637  1c5f7fc01eea9b1a_m08hvt4_2f96d800.png  1c5f7fc01eea9b1a  /m/08hvt4   \n",
       "226638  6085ff0ae91fb440_m08hvt4_4aeb7989.png  6085ff0ae91fb440  /m/08hvt4   \n",
       "226639  8689ecab1fa0f746_m08hvt4_380a7674.png  8689ecab1fa0f746  /m/08hvt4   \n",
       "\n",
       "           BoxID   BoxXMin   BoxXMax   BoxYMin   BoxYMax  PredictedIoU  \\\n",
       "0       1803811b  0.468125  0.628750  0.188714  0.949121       0.86841   \n",
       "1       a9a97702  0.394375  0.605000  0.241667  0.903333       0.81242   \n",
       "2       333376e6  0.791875  0.839375  0.096226  0.184906       0.64984   \n",
       "3       a42b01bc  0.478125  0.518750  0.450797  0.604499       0.77027   \n",
       "4       7ef4ab8d  0.738750  0.861250  0.508333  0.631667       0.71815   \n",
       "...          ...       ...       ...       ...       ...           ...   \n",
       "226635  1682655d  0.631250  0.928750  0.296667  0.802500       0.90699   \n",
       "226636  d785dbd9  0.513125  0.659375  0.298311  0.608818       0.81158   \n",
       "226637  2f96d800  0.355000  0.511250  0.579737  0.881801       0.84473   \n",
       "226638  4aeb7989  0.344278  0.651032  0.683750  0.901250       0.84358   \n",
       "226639  380a7674  0.532392  0.800664  0.650625  0.956250       0.78558   \n",
       "\n",
       "                                                   Clicks      class  \\\n",
       "0       0.47513 0.38255 1;0.52118 0.91333 0;0.47513 0....  /m/01g317   \n",
       "1       0.57036 0.81358 1;0.54599 0.65655 0;0.42280 0....  /m/01g317   \n",
       "2       0.79876 0.17372 1;0.84756 0.19868 1;0.80936 0....  /m/01g317   \n",
       "3       0.49924 0.57654 0;0.50731 0.45367 1;0.49108 0....  /m/01g317   \n",
       "4       0.79186 0.54778 0;0.80219 0.52627 1;0.84317 0....  /m/01g317   \n",
       "...                                                   ...        ...   \n",
       "226635  0.91454 0.35031 0;0.92895 0.53163 0;0.93898 0....  /m/08hvt4   \n",
       "226636  0.65518 0.33896 1;0.62441 0.44468 0;0.65074 0....  /m/08hvt4   \n",
       "226637  0.46071 0.64206 1;0.50700 0.64289 1;0.37250 0....  /m/08hvt4   \n",
       "226638  0.35302 0.76069 1;0.39130 0.72297 0;0.41286 0....  /m/08hvt4   \n",
       "226639  0.71548 0.71458 1;0.78449 0.76064 1;0.58971 0....  /m/08hvt4   \n",
       "\n",
       "       class_name  \n",
       "0          person  \n",
       "1          person  \n",
       "2          person  \n",
       "3          person  \n",
       "4          person  \n",
       "...           ...  \n",
       "226635        jug  \n",
       "226636        jug  \n",
       "226637        jug  \n",
       "226638        jug  \n",
       "226639        jug  \n",
       "\n",
       "[23053 rows x 12 columns]"
      ]
     },
     "execution_count": 106,
     "metadata": {},
     "output_type": "execute_result"
    }
   ],
   "source": [
    "subset_data[0]"
   ]
  },
  {
   "cell_type": "code",
   "execution_count": null,
   "metadata": {},
   "outputs": [],
   "source": [
    "subset_data = subset_data[subset_data['MaskPath'].map(lambda x: x in masks)]"
   ]
  },
  {
   "cell_type": "code",
   "execution_count": null,
   "metadata": {},
   "outputs": [],
   "source": []
  },
  {
   "cell_type": "code",
   "execution_count": null,
   "metadata": {},
   "outputs": [],
   "source": [
    "subset_imageIds = subset_data['ImageID'].tolist()"
   ]
  },
  {
   "cell_type": "code",
   "execution_count": null,
   "metadata": {},
   "outputs": [],
   "source": [
    "from openimages.download import _download_images_by_id"
   ]
  },
  {
   "cell_type": "code",
   "execution_count": null,
   "metadata": {},
   "outputs": [
    {
     "name": "stderr",
     "output_type": "stream",
     "text": [
      "100%|█████████▉| 23049/23053 [04:16<00:00, 99.56it/s] 2023-03-03  07:46:31 WARNING Connection pool is full, discarding connection: open-images-dataset.s3.amazonaws.com. Connection pool size: 10\n",
      "100%|██████████| 23053/23053 [04:16<00:00, 89.72it/s]\n"
     ]
    }
   ],
   "source": [
    "_download_images_by_id(subset_imageIds, 'train', 'D:/datasets/detection/images')"
   ]
  },
  {
   "cell_type": "code",
   "execution_count": null,
   "metadata": {},
   "outputs": [],
   "source": [
    "! pip install git+git://github.com/waspinator/pycococreator.git@0.2.0"
   ]
  },
  {
   "cell_type": "code",
   "execution_count": 39,
   "metadata": {},
   "outputs": [],
   "source": [
    "import datetime"
   ]
  },
  {
   "cell_type": "code",
   "execution_count": 40,
   "metadata": {},
   "outputs": [],
   "source": [
    "INFO = {\n",
    "    \"description\": \"Open Images Dataset V5\",\n",
    "    \"url\": \"None\",\n",
    "    \"version\": \"1.0\",\n",
    "    \"year\": 2023,\n",
    "    \"contributor\": \"JT\",\n",
    "    \"date_created\": datetime.datetime.utcnow().isoformat(' ')\n",
    "}\n",
    "\n"
   ]
  },
  {
   "cell_type": "code",
   "execution_count": 113,
   "metadata": {},
   "outputs": [],
   "source": [
    "LICENSES = [\n",
    "    {\n",
    "        \"id\": 1,\n",
    "        \"name\": \"MIT License\",\n",
    "    }\n",
    "]"
   ]
  },
  {
   "cell_type": "code",
   "execution_count": 41,
   "metadata": {},
   "outputs": [
    {
     "data": {
      "text/html": [
       "<div>\n",
       "<style scoped>\n",
       "    .dataframe tbody tr th:only-of-type {\n",
       "        vertical-align: middle;\n",
       "    }\n",
       "\n",
       "    .dataframe tbody tr th {\n",
       "        vertical-align: top;\n",
       "    }\n",
       "\n",
       "    .dataframe thead th {\n",
       "        text-align: right;\n",
       "    }\n",
       "</style>\n",
       "<table border=\"1\" class=\"dataframe\">\n",
       "  <thead>\n",
       "    <tr style=\"text-align: right;\">\n",
       "      <th></th>\n",
       "      <th>class</th>\n",
       "      <th>class_name</th>\n",
       "    </tr>\n",
       "  </thead>\n",
       "  <tbody>\n",
       "    <tr>\n",
       "      <th>43</th>\n",
       "      <td>/m/01226z</td>\n",
       "      <td>football</td>\n",
       "    </tr>\n",
       "    <tr>\n",
       "      <th>224</th>\n",
       "      <td>/m/015p6</td>\n",
       "      <td>bird</td>\n",
       "    </tr>\n",
       "  </tbody>\n",
       "</table>\n",
       "</div>"
      ],
      "text/plain": [
       "         class class_name\n",
       "43   /m/01226z   football\n",
       "224   /m/015p6       bird"
      ]
     },
     "execution_count": 41,
     "metadata": {},
     "output_type": "execute_result"
    }
   ],
   "source": [
    "classes[0:2]"
   ]
  },
  {
   "cell_type": "code",
   "execution_count": 43,
   "metadata": {},
   "outputs": [],
   "source": [
    "CATEGORIES = [ {'id': id+1, 'name': name.replace('/',''), 'supercategory': 'none'} for id, (_, (name, clss_name)) in enumerate(classes.iterrows())]"
   ]
  },
  {
   "cell_type": "code",
   "execution_count": null,
   "metadata": {},
   "outputs": [],
   "source": [
    "from pycocotools import pycococreatortools"
   ]
  }
 ],
 "metadata": {
  "kernelspec": {
   "display_name": "venv-gpu",
   "language": "python",
   "name": "python3"
  },
  "language_info": {
   "codemirror_mode": {
    "name": "ipython",
    "version": 3
   },
   "file_extension": ".py",
   "mimetype": "text/x-python",
   "name": "python",
   "nbconvert_exporter": "python",
   "pygments_lexer": "ipython3",
   "version": "3.10.9"
  },
  "orig_nbformat": 4,
  "vscode": {
   "interpreter": {
    "hash": "34b46bf796af9e1f2483fc378ea0946c31bc8b4f1acc3fe600868016f8cc5e4c"
   }
  }
 },
 "nbformat": 4,
 "nbformat_minor": 2
}
