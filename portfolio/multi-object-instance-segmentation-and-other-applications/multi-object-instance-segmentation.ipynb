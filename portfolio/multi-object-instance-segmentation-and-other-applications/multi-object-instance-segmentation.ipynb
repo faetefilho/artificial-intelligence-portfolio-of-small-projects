{
 "cells": [
  {
   "cell_type": "code",
   "execution_count": 15,
   "metadata": {},
   "outputs": [],
   "source": [
    "from torch_snippets import *"
   ]
  },
  {
   "cell_type": "code",
   "execution_count": 16,
   "metadata": {},
   "outputs": [],
   "source": [
    "import wget"
   ]
  },
  {
   "cell_type": "code",
   "execution_count": 5,
   "metadata": {},
   "outputs": [
    {
     "data": {
      "text/plain": [
       "'D:\\\\datasets/train-annotations-object-segmentation.csv'"
      ]
     },
     "execution_count": 5,
     "metadata": {},
     "output_type": "execute_result"
    }
   ],
   "source": [
    "output_directory = 'D:\\datasets'\n",
    "url = 'https://storage.googleapis.com/openimages/v5/train-annotations-object-segmentation.csv'\n",
    "wget.download(url, out=output_directory)"
   ]
  },
  {
   "cell_type": "code",
   "execution_count": 6,
   "metadata": {},
   "outputs": [
    {
     "data": {
      "text/plain": [
       "'D:\\\\datasets/dict.csv'"
      ]
     },
     "execution_count": 6,
     "metadata": {},
     "output_type": "execute_result"
    }
   ],
   "source": [
    "output_directory = 'D:\\datasets'\n",
    "url = 'https://raw.githubusercontent.com/openimages/dataset/master/dict.csv'\n",
    "wget.download(url, out=output_directory)"
   ]
  },
  {
   "cell_type": "code",
   "execution_count": 17,
   "metadata": {},
   "outputs": [],
   "source": [
    "# specify the classes we want our model to predict\n",
    "required_classes = ['person', 'dog', 'bird', 'car', 'elephant', 'football', 'jug', 'laptop', 'Mushroom', 'Pizza', 'Rocket', 'Shirt', 'Traffic sign', 'Watermelon', 'Zebra']\n",
    "required_classes = [c.lower() for c in required_classes]\n"
   ]
  },
  {
   "cell_type": "code",
   "execution_count": 18,
   "metadata": {},
   "outputs": [],
   "source": [
    "import pandas as pd"
   ]
  },
  {
   "cell_type": "code",
   "execution_count": 19,
   "metadata": {},
   "outputs": [],
   "source": [
    "classes = pd.read_csv('D:\\datasets\\classes.csv', header=None)\n",
    "classes.columns = ['class', 'class_name']\n",
    "classes = classes[classes['class_name'].map(lambda x: x in required_classes ) ]"
   ]
  },
  {
   "cell_type": "code",
   "execution_count": 20,
   "metadata": {},
   "outputs": [
    {
     "name": "stdout",
     "output_type": "stream",
     "text": [
      "<class 'pandas.core.frame.DataFrame'>\n",
      "Int64Index: 15 entries, 43 to 7647\n",
      "Data columns (total 2 columns):\n",
      " #   Column      Non-Null Count  Dtype \n",
      "---  ------      --------------  ----- \n",
      " 0   class       15 non-null     object\n",
      " 1   class_name  15 non-null     object\n",
      "dtypes: object(2)\n",
      "memory usage: 360.0+ bytes\n"
     ]
    }
   ],
   "source": [
    "classes.info()"
   ]
  },
  {
   "cell_type": "code",
   "execution_count": 21,
   "metadata": {},
   "outputs": [
    {
     "data": {
      "text/html": [
       "<div>\n",
       "<style scoped>\n",
       "    .dataframe tbody tr th:only-of-type {\n",
       "        vertical-align: middle;\n",
       "    }\n",
       "\n",
       "    .dataframe tbody tr th {\n",
       "        vertical-align: top;\n",
       "    }\n",
       "\n",
       "    .dataframe thead th {\n",
       "        text-align: right;\n",
       "    }\n",
       "</style>\n",
       "<table border=\"1\" class=\"dataframe\">\n",
       "  <thead>\n",
       "    <tr style=\"text-align: right;\">\n",
       "      <th></th>\n",
       "      <th>class</th>\n",
       "      <th>class_name</th>\n",
       "    </tr>\n",
       "  </thead>\n",
       "  <tbody>\n",
       "    <tr>\n",
       "      <th>43</th>\n",
       "      <td>/m/01226z</td>\n",
       "      <td>football</td>\n",
       "    </tr>\n",
       "    <tr>\n",
       "      <th>224</th>\n",
       "      <td>/m/015p6</td>\n",
       "      <td>bird</td>\n",
       "    </tr>\n",
       "    <tr>\n",
       "      <th>601</th>\n",
       "      <td>/m/01c648</td>\n",
       "      <td>laptop</td>\n",
       "    </tr>\n",
       "    <tr>\n",
       "      <th>753</th>\n",
       "      <td>/m/01g317</td>\n",
       "      <td>person</td>\n",
       "    </tr>\n",
       "    <tr>\n",
       "      <th>1022</th>\n",
       "      <td>/m/01mqdt</td>\n",
       "      <td>traffic sign</td>\n",
       "    </tr>\n",
       "    <tr>\n",
       "      <th>1045</th>\n",
       "      <td>/m/01n4qj</td>\n",
       "      <td>shirt</td>\n",
       "    </tr>\n",
       "    <tr>\n",
       "      <th>2819</th>\n",
       "      <td>/m/02vx4</td>\n",
       "      <td>football</td>\n",
       "    </tr>\n",
       "    <tr>\n",
       "      <th>4675</th>\n",
       "      <td>/m/052sf</td>\n",
       "      <td>mushroom</td>\n",
       "    </tr>\n",
       "    <tr>\n",
       "      <th>5181</th>\n",
       "      <td>/m/0663v</td>\n",
       "      <td>pizza</td>\n",
       "    </tr>\n",
       "    <tr>\n",
       "      <th>5916</th>\n",
       "      <td>/m/0898b</td>\n",
       "      <td>zebra</td>\n",
       "    </tr>\n",
       "    <tr>\n",
       "      <th>5952</th>\n",
       "      <td>/m/08hvt4</td>\n",
       "      <td>jug</td>\n",
       "    </tr>\n",
       "    <tr>\n",
       "      <th>6217</th>\n",
       "      <td>/m/09rvcxw</td>\n",
       "      <td>rocket</td>\n",
       "    </tr>\n",
       "    <tr>\n",
       "      <th>6420</th>\n",
       "      <td>/m/0bt9lr</td>\n",
       "      <td>dog</td>\n",
       "    </tr>\n",
       "    <tr>\n",
       "      <th>6432</th>\n",
       "      <td>/m/0bwd_0j</td>\n",
       "      <td>elephant</td>\n",
       "    </tr>\n",
       "    <tr>\n",
       "      <th>7647</th>\n",
       "      <td>/m/0kpqd</td>\n",
       "      <td>watermelon</td>\n",
       "    </tr>\n",
       "  </tbody>\n",
       "</table>\n",
       "</div>"
      ],
      "text/plain": [
       "           class    class_name\n",
       "43     /m/01226z      football\n",
       "224     /m/015p6          bird\n",
       "601    /m/01c648        laptop\n",
       "753    /m/01g317        person\n",
       "1022   /m/01mqdt  traffic sign\n",
       "1045   /m/01n4qj         shirt\n",
       "2819    /m/02vx4      football\n",
       "4675    /m/052sf      mushroom\n",
       "5181    /m/0663v         pizza\n",
       "5916    /m/0898b         zebra\n",
       "5952   /m/08hvt4           jug\n",
       "6217  /m/09rvcxw        rocket\n",
       "6420   /m/0bt9lr           dog\n",
       "6432  /m/0bwd_0j      elephant\n",
       "7647    /m/0kpqd    watermelon"
      ]
     },
     "execution_count": 21,
     "metadata": {},
     "output_type": "execute_result"
    }
   ],
   "source": [
    "classes"
   ]
  },
  {
   "cell_type": "code",
   "execution_count": 22,
   "metadata": {},
   "outputs": [],
   "source": [
    "from torch_snippets import *"
   ]
  },
  {
   "cell_type": "code",
   "execution_count": 4,
   "metadata": {},
   "outputs": [],
   "source": [
    "# reading a large file in chunks and appending to a dataframe\n",
    "def read_csv_chunks(path, chunksize=1000):\n",
    "    df = pd.DataFrame()\n",
    "    for chunk in pd.read_csv(path, chunksize=chunksize):\n",
    "        df = df.append(chunk)\n",
    "    return df"
   ]
  },
  {
   "cell_type": "code",
   "execution_count": 12,
   "metadata": {},
   "outputs": [],
   "source": [
    "# df = pd.read_csv('D:/Datasets/annotations.csv', chunksize=1)\n",
    "df = pd.read_csv('D:/Datasets/annotations.csv')"
   ]
  },
  {
   "cell_type": "code",
   "execution_count": 13,
   "metadata": {},
   "outputs": [
    {
     "name": "stdout",
     "output_type": "stream",
     "text": [
      "<class 'pandas.core.frame.DataFrame'>\n",
      "RangeIndex: 2686666 entries, 0 to 2686665\n",
      "Data columns (total 10 columns):\n",
      " #   Column        Dtype  \n",
      "---  ------        -----  \n",
      " 0   MaskPath      object \n",
      " 1   ImageID       object \n",
      " 2   LabelName     object \n",
      " 3   BoxID         object \n",
      " 4   BoxXMin       float64\n",
      " 5   BoxXMax       float64\n",
      " 6   BoxYMin       float64\n",
      " 7   BoxYMax       float64\n",
      " 8   PredictedIoU  float64\n",
      " 9   Clicks        object \n",
      "dtypes: float64(5), object(5)\n",
      "memory usage: 205.0+ MB\n"
     ]
    }
   ],
   "source": [
    "df.info()"
   ]
  },
  {
   "cell_type": "code",
   "execution_count": 23,
   "metadata": {},
   "outputs": [],
   "source": [
    "data  = pd.merge(df, classes, left_on='LabelName', right_on='class')"
   ]
  },
  {
   "cell_type": "code",
   "execution_count": 24,
   "metadata": {},
   "outputs": [],
   "source": [
    "# fetching fewer images for each class\n",
    "subset_data = data.groupby('class_name').agg({'ImageID': lambda x: list(x)[:1000]})\n",
    "subset_data = flatten(subset_data.ImageID.tolist())\n",
    "subset_data = data[data['ImageID'].map(lambda x: x in subset_data)]\n",
    "subset_masks = subset_data['MaskPath'].tolist()"
   ]
  },
  {
   "cell_type": "code",
   "execution_count": 27,
   "metadata": {},
   "outputs": [
    {
     "data": {
      "text/plain": [
       "['18c1fd8342d55af8_m01g317_a9a97702.png',\n",
       " '42ea7facefea9a28_m01g317_333376e6.png',\n",
       " 'bcb123bf7f256b1c_m01g317_a42b01bc.png',\n",
       " 'a2bb5944e071223c_m01g317_7ef4ab8d.png',\n",
       " '4fd2304f1f65dc74_m01g317_336e67e1.png',\n",
       " '0113dbe2b087bd55_m01g317_d606a644.png',\n",
       " 'cc8c1cec5a263473_m01g317_5dd13cd7.png',\n",
       " 'd6dc04e65df11e78_m01g317_cfc9e8e5.png',\n",
       " 'db35878a7d398f65_m01g317_d61cc87b.png']"
      ]
     },
     "execution_count": 27,
     "metadata": {},
     "output_type": "execute_result"
    }
   ],
   "source": [
    "subset_masks[1:10]"
   ]
  },
  {
   "cell_type": "code",
   "execution_count": null,
   "metadata": {},
   "outputs": [],
   "source": []
  }
 ],
 "metadata": {
  "kernelspec": {
   "display_name": "venv-gpu",
   "language": "python",
   "name": "python3"
  },
  "language_info": {
   "codemirror_mode": {
    "name": "ipython",
    "version": 3
   },
   "file_extension": ".py",
   "mimetype": "text/x-python",
   "name": "python",
   "nbconvert_exporter": "python",
   "pygments_lexer": "ipython3",
   "version": "3.10.9"
  },
  "orig_nbformat": 4,
  "vscode": {
   "interpreter": {
    "hash": "34b46bf796af9e1f2483fc378ea0946c31bc8b4f1acc3fe600868016f8cc5e4c"
   }
  }
 },
 "nbformat": 4,
 "nbformat_minor": 2
}
