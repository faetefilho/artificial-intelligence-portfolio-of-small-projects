{
 "cells": [
  {
   "cell_type": "markdown",
   "id": "3e803e76",
   "metadata": {},
   "source": [
    "# Define a lambda function\n",
    "This script does the same action as if we were using manegement console"
   ]
  },
  {
   "cell_type": "code",
   "execution_count": 1,
   "id": "49ffbba5",
   "metadata": {},
   "outputs": [],
   "source": [
    "import boto3"
   ]
  },
  {
   "cell_type": "code",
   "execution_count": 2,
   "id": "8e941a75",
   "metadata": {},
   "outputs": [],
   "source": [
    "import json"
   ]
  },
  {
   "cell_type": "code",
   "execution_count": 3,
   "id": "c4585dd6",
   "metadata": {},
   "outputs": [
    {
     "name": "stdout",
     "output_type": "stream",
     "text": [
      "Overwriting lambda_function.py\n"
     ]
    }
   ],
   "source": [
    "%%writefile lambda_function.py\n",
    "import json\n",
    "def lambda_handler(event, context):\n",
    "    print('Welcome to my first lambda function using SDK')\n",
    "    if event['Bank Client ID'] == '001':\n",
    "        return 'Bank Client ID 001 is john'\n",
    "    elif event['Bank Client ID'] == '002':\n",
    "        return 'Bank Client ID 002 is Mary'\n",
    "    elif event['Bank Client ID'] == '003':\n",
    "        return 'Bank Client ID 003 is JT'\n",
    "    else:\n",
    "        return 'not found'"
   ]
  },
  {
   "cell_type": "code",
   "execution_count": 4,
   "id": "39da8694",
   "metadata": {},
   "outputs": [],
   "source": [
    "from zipfile import ZipFile\n",
    "with ZipFile('lambda.zip', 'w') as f:\n",
    "    f.write('lambda_function.py')"
   ]
  },
  {
   "cell_type": "code",
   "execution_count": 5,
   "id": "6fda0709",
   "metadata": {},
   "outputs": [],
   "source": [
    "with open('lambda.zip', 'rb') as f:\n",
    "    zipped_code = f.read()"
   ]
  },
  {
   "cell_type": "code",
   "execution_count": 4,
   "id": "4060efa7",
   "metadata": {},
   "outputs": [],
   "source": [
    "client = boto3.client('lambda')"
   ]
  },
  {
   "cell_type": "code",
   "execution_count": 7,
   "id": "ca84663b",
   "metadata": {},
   "outputs": [],
   "source": [
    "response = client.create_function(\n",
    "    FunctionName = 'my-lambda-function-with-SDK',\n",
    "    Runtime = 'python3.9',\n",
    "    Handler = 'lambda_function.lambda_handler',\n",
    "    Code = dict(ZipFile = zipped_code),\n",
    "    Timeout = 60,\n",
    "    MemorySize = 512,\n",
    "    Role = 'arn:aws:iam::852800376493:role/service-role/my-second-lambda-function-role-twn2ouuk'\n",
    ")"
   ]
  },
  {
   "cell_type": "markdown",
   "id": "a4c24619",
   "metadata": {},
   "source": [
    "# Invoke lambda function"
   ]
  },
  {
   "cell_type": "code",
   "execution_count": 12,
   "id": "199f687c",
   "metadata": {},
   "outputs": [],
   "source": [
    "response = client.invoke(\n",
    "    FunctionName = 'my-lambda-function-with-SDK',\n",
    "    InvocationType = 'Event',\n",
    "    LogType = 'Tail',\n",
    "    ClientContext = 'string',\n",
    "    Payload = json.dumps({'Bank Client ID': '003'}).encode('utf-8')\n",
    ")"
   ]
  },
  {
   "cell_type": "code",
   "execution_count": 7,
   "id": "81304931",
   "metadata": {},
   "outputs": [
    {
     "name": "stdout",
     "output_type": "stream",
     "text": [
      "{'ResponseMetadata': {'RequestId': '739b822b-c769-4f41-beeb-7cf3289f7bab', 'HTTPStatusCode': 202, 'HTTPHeaders': {'date': 'Tue, 06 Dec 2022 00:18:05 GMT', 'content-length': '0', 'connection': 'keep-alive', 'x-amzn-requestid': '739b822b-c769-4f41-beeb-7cf3289f7bab', 'x-amzn-remapped-content-length': '0', 'x-amzn-trace-id': 'root=1-638e8a3d-0d567ca8550fdb4f4f83e331;sampled=0'}, 'RetryAttempts': 0}, 'StatusCode': 202, 'Payload': <botocore.response.StreamingBody object at 0x7fc9f4667b50>}\n"
     ]
    }
   ],
   "source": [
    "print(response)"
   ]
  },
  {
   "cell_type": "code",
   "execution_count": 8,
   "id": "59c2b829",
   "metadata": {},
   "outputs": [
    {
     "data": {
      "text/plain": [
       "{'ResponseMetadata': {'RequestId': '739b822b-c769-4f41-beeb-7cf3289f7bab',\n",
       "  'HTTPStatusCode': 202,\n",
       "  'HTTPHeaders': {'date': 'Tue, 06 Dec 2022 00:18:05 GMT',\n",
       "   'content-length': '0',\n",
       "   'connection': 'keep-alive',\n",
       "   'x-amzn-requestid': '739b822b-c769-4f41-beeb-7cf3289f7bab',\n",
       "   'x-amzn-remapped-content-length': '0',\n",
       "   'x-amzn-trace-id': 'root=1-638e8a3d-0d567ca8550fdb4f4f83e331;sampled=0'},\n",
       "  'RetryAttempts': 0},\n",
       " 'StatusCode': 202,\n",
       " 'Payload': <botocore.response.StreamingBody at 0x7fc9f4667b50>}"
      ]
     },
     "execution_count": 8,
     "metadata": {},
     "output_type": "execute_result"
    }
   ],
   "source": [
    "response"
   ]
  },
  {
   "cell_type": "code",
   "execution_count": null,
   "id": "78f85d03",
   "metadata": {},
   "outputs": [],
   "source": []
  }
 ],
 "metadata": {
  "kernelspec": {
   "display_name": "conda_python3",
   "language": "python",
   "name": "conda_python3"
  },
  "language_info": {
   "codemirror_mode": {
    "name": "ipython",
    "version": 3
   },
   "file_extension": ".py",
   "mimetype": "text/x-python",
   "name": "python",
   "nbconvert_exporter": "python",
   "pygments_lexer": "ipython3",
   "version": "3.8.12"
  }
 },
 "nbformat": 4,
 "nbformat_minor": 5
}
