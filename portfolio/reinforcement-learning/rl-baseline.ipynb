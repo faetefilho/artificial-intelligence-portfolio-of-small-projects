{
 "cells": [
  {
   "cell_type": "code",
   "execution_count": 1,
   "metadata": {},
   "outputs": [],
   "source": [
    "import os\n",
    "import gym\n"
   ]
  },
  {
   "cell_type": "code",
   "execution_count": 2,
   "metadata": {},
   "outputs": [],
   "source": [
    "import matplotlib.pyplot as plt"
   ]
  },
  {
   "cell_type": "code",
   "execution_count": 3,
   "metadata": {},
   "outputs": [],
   "source": [
    "from stable_baselines3 import PPO\n",
    "from stable_baselines3.common.vec_env import DummyVecEnv\n",
    "from stable_baselines3.common.evaluation import evaluate_policy"
   ]
  },
  {
   "cell_type": "code",
   "execution_count": 4,
   "metadata": {},
   "outputs": [],
   "source": [
    "environment_name = 'CartPole-v1'\n",
    "env = gym.make(environment_name, render_mode=\"rgb_array\")"
   ]
  },
  {
   "cell_type": "code",
   "execution_count": 5,
   "metadata": {},
   "outputs": [
    {
     "name": "stdout",
     "output_type": "stream",
     "text": [
      "Episode:1 Score:23.0\n"
     ]
    },
    {
     "data": {
      "image/png": "[encoded data removed]",
      "text/plain": [
       "<Figure size 640x480 with 1 Axes>"
      ]
     },
     "metadata": {},
     "output_type": "display_data"
    }
   ],
   "source": [
    "episodes = 1\n",
    "for episode in range(1, episodes+1):\n",
    "    state = env.reset()\n",
    "    done = False\n",
    "    score = 0\n",
    "\n",
    "    while not done:\n",
    "        #env.render()\n",
    "        plt.imshow(env.render())\n",
    "        # delay next frame\n",
    "        # plt.pause(0.01)\n",
    "        action = env.action_space.sample()\n",
    "        n_state, reward, done, truncated, info = env.step(action)\n",
    "        score += reward\n",
    "    print('Episode:{} Score:{}'.format(episode, score))\n",
    "env.close()\n",
    "\n"
   ]
  },
  {
   "cell_type": "code",
   "execution_count": 6,
   "metadata": {},
   "outputs": [
    {
     "data": {
      "text/plain": [
       "(array([ 0.00986755, -0.03296834, -0.01475957, -0.03886188], dtype=float32),\n",
       " {})"
      ]
     },
     "execution_count": 6,
     "metadata": {},
     "output_type": "execute_result"
    }
   ],
   "source": [
    "env.reset()"
   ]
  },
  {
   "cell_type": "code",
   "execution_count": 7,
   "metadata": {},
   "outputs": [
    {
     "data": {
      "text/plain": [
       "Discrete(2)"
      ]
     },
     "execution_count": 7,
     "metadata": {},
     "output_type": "execute_result"
    }
   ],
   "source": [
    "# type of action space\n",
    "env.action_space"
   ]
  },
  {
   "cell_type": "code",
   "execution_count": 12,
   "metadata": {},
   "outputs": [
    {
     "data": {
      "text/plain": [
       "1"
      ]
     },
     "execution_count": 12,
     "metadata": {},
     "output_type": "execute_result"
    }
   ],
   "source": [
    "# sample action\n",
    "env.action_space.sample()"
   ]
  },
  {
   "cell_type": "code",
   "execution_count": 13,
   "metadata": {},
   "outputs": [
    {
     "data": {
      "text/plain": [
       "Box([-4.8000002e+00 -3.4028235e+38 -4.1887903e-01 -3.4028235e+38], [4.8000002e+00 3.4028235e+38 4.1887903e-01 3.4028235e+38], (4,), float32)"
      ]
     },
     "execution_count": 13,
     "metadata": {},
     "output_type": "execute_result"
    }
   ],
   "source": [
    "# type of observation space, box means it's a continuous space\n",
    "env.observation_space"
   ]
  },
  {
   "cell_type": "code",
   "execution_count": 14,
   "metadata": {},
   "outputs": [
    {
     "data": {
      "text/plain": [
       "array([ 3.6013787e+00, -2.3965259e+38,  1.2081291e-01,  2.7877513e+38],\n",
       "      dtype=float32)"
      ]
     },
     "execution_count": 14,
     "metadata": {},
     "output_type": "execute_result"
    }
   ],
   "source": [
    "# Sample observation\n",
    "env.observation_space.sample()"
   ]
  },
  {
   "cell_type": "code",
   "execution_count": 15,
   "metadata": {},
   "outputs": [],
   "source": [
    "n_state, reward, done, trucated, info = env.step(env.action_space.sample())"
   ]
  },
  {
   "cell_type": "code",
   "execution_count": 12,
   "metadata": {},
   "outputs": [
    {
     "data": {
      "text/plain": [
       "<matplotlib.image.AxesImage at 0x1ecdc0f8490>"
      ]
     },
     "execution_count": 12,
     "metadata": {},
     "output_type": "execute_result"
    },
    {
     "data": {
      "image/png": "[encoded data removed]",
      "text/plain": [
       "<Figure size 640x480 with 1 Axes>"
      ]
     },
     "metadata": {},
     "output_type": "display_data"
    }
   ],
   "source": [
    "frame = env.render()\n",
    "# plot the image\n",
    "plt.imshow(frame)"
   ]
  },
  {
   "attachments": {},
   "cell_type": "markdown",
   "metadata": {},
   "source": [
    "## Training the RL model\n"
   ]
  },
  {
   "cell_type": "code",
   "execution_count": 16,
   "metadata": {},
   "outputs": [
    {
     "name": "stdout",
     "output_type": "stream",
     "text": [
      "training\\logs\n"
     ]
    }
   ],
   "source": [
    "log_path = os.path.join('training', 'logs')\n",
    "print(log_path)"
   ]
  },
  {
   "cell_type": "code",
   "execution_count": 17,
   "metadata": {},
   "outputs": [],
   "source": [
    "# lets recreate the envionment\n",
    "env = gym.make(environment_name)"
   ]
  },
  {
   "cell_type": "code",
   "execution_count": 18,
   "metadata": {},
   "outputs": [
    {
     "name": "stderr",
     "output_type": "stream",
     "text": [
      "c:\\Users\\Tinho\\anaconda3\\envs\\gpu-env\\lib\\site-packages\\stable_baselines3\\common\\vec_env\\patch_gym.py:49: UserWarning: You provided an OpenAI Gym environment. We strongly recommend transitioning to Gymnasium environments. Stable-Baselines3 is automatically wrapping your environments in a compatibility layer, which could potentially cause issues.\n",
      "  warnings.warn(\n"
     ]
    }
   ],
   "source": [
    "# wrap the environment, so it's compatible with the stable baselines code\n",
    "# vectorized environments allow to easily multiprocess training\n",
    "env = DummyVecEnv([lambda: env]) # solve this warning later\n"
   ]
  },
  {
   "cell_type": "code",
   "execution_count": 19,
   "metadata": {},
   "outputs": [
    {
     "name": "stdout",
     "output_type": "stream",
     "text": [
      "Using cuda device\n"
     ]
    }
   ],
   "source": [
    "model = PPO('MlpPolicy', env, verbose=1, tensorboard_log=log_path)\n",
    "# MLpPolicy is a multi-layer perceptron policy\n"
   ]
  },
  {
   "cell_type": "code",
   "execution_count": 20,
   "metadata": {},
   "outputs": [
    {
     "name": "stdout",
     "output_type": "stream",
     "text": [
      "Help on class PPO in module stable_baselines3.ppo.ppo:\n",
      "\n",
      "class PPO(stable_baselines3.common.on_policy_algorithm.OnPolicyAlgorithm)\n",
      " |  PPO(policy: Union[str, Type[stable_baselines3.common.policies.ActorCriticPolicy]], env: Union[gymnasium.core.Env, stable_baselines3.common.vec_env.base_vec_env.VecEnv, str], learning_rate: Union[float, Callable[[float], float]] = 0.0003, n_steps: int = 2048, batch_size: int = 64, n_epochs: int = 10, gamma: float = 0.99, gae_lambda: float = 0.95, clip_range: Union[float, Callable[[float], float]] = 0.2, clip_range_vf: Union[NoneType, float, Callable[[float], float]] = None, normalize_advantage: bool = True, ent_coef: float = 0.0, vf_coef: float = 0.5, max_grad_norm: float = 0.5, use_sde: bool = False, sde_sample_freq: int = -1, target_kl: Optional[float] = None, stats_window_size: int = 100, tensorboard_log: Optional[str] = None, policy_kwargs: Optional[Dict[str, Any]] = None, verbose: int = 0, seed: Optional[int] = None, device: Union[torch.device, str] = 'auto', _init_setup_model: bool = True)\n",
      " |  \n",
      " |  Proximal Policy Optimization algorithm (PPO) (clip version)\n",
      " |  \n",
      " |  Paper: https://arxiv.org/abs/1707.06347\n",
      " |  Code: This implementation borrows code from OpenAI Spinning Up (https://github.com/openai/spinningup/)\n",
      " |  https://github.com/ikostrikov/pytorch-a2c-ppo-acktr-gail and\n",
      " |  Stable Baselines (PPO2 from https://github.com/hill-a/stable-baselines)\n",
      " |  \n",
      " |  Introduction to PPO: https://spinningup.openai.com/en/latest/algorithms/ppo.html\n",
      " |  \n",
      " |  :param policy: The policy model to use (MlpPolicy, CnnPolicy, ...)\n",
      " |  :param env: The environment to learn from (if registered in Gym, can be str)\n",
      " |  :param learning_rate: The learning rate, it can be a function\n",
      " |      of the current progress remaining (from 1 to 0)\n",
      " |  :param n_steps: The number of steps to run for each environment per update\n",
      " |      (i.e. rollout buffer size is n_steps * n_envs where n_envs is number of environment copies running in parallel)\n",
      " |      NOTE: n_steps * n_envs must be greater than 1 (because of the advantage normalization)\n",
      " |      See https://github.com/pytorch/pytorch/issues/29372\n",
      " |  :param batch_size: Minibatch size\n",
      " |  :param n_epochs: Number of epoch when optimizing the surrogate loss\n",
      " |  :param gamma: Discount factor\n",
      " |  :param gae_lambda: Factor for trade-off of bias vs variance for Generalized Advantage Estimator\n",
      " |  :param clip_range: Clipping parameter, it can be a function of the current progress\n",
      " |      remaining (from 1 to 0).\n",
      " |  :param clip_range_vf: Clipping parameter for the value function,\n",
      " |      it can be a function of the current progress remaining (from 1 to 0).\n",
      " |      This is a parameter specific to the OpenAI implementation. If None is passed (default),\n",
      " |      no clipping will be done on the value function.\n",
      " |      IMPORTANT: this clipping depends on the reward scaling.\n",
      " |  :param normalize_advantage: Whether to normalize or not the advantage\n",
      " |  :param ent_coef: Entropy coefficient for the loss calculation\n",
      " |  :param vf_coef: Value function coefficient for the loss calculation\n",
      " |  :param max_grad_norm: The maximum value for the gradient clipping\n",
      " |  :param use_sde: Whether to use generalized State Dependent Exploration (gSDE)\n",
      " |      instead of action noise exploration (default: False)\n",
      " |  :param sde_sample_freq: Sample a new noise matrix every n steps when using gSDE\n",
      " |      Default: -1 (only sample at the beginning of the rollout)\n",
      " |  :param target_kl: Limit the KL divergence between updates,\n",
      " |      because the clipping is not enough to prevent large update\n",
      " |      see issue #213 (cf https://github.com/hill-a/stable-baselines/issues/213)\n",
      " |      By default, there is no limit on the kl div.\n",
      " |  :param stats_window_size: Window size for the rollout logging, specifying the number of episodes to average\n",
      " |      the reported success rate, mean episode length, and mean reward over\n",
      " |  :param tensorboard_log: the log location for tensorboard (if None, no logging)\n",
      " |  :param policy_kwargs: additional arguments to be passed to the policy on creation\n",
      " |  :param verbose: Verbosity level: 0 for no output, 1 for info messages (such as device or wrappers used), 2 for\n",
      " |      debug messages\n",
      " |  :param seed: Seed for the pseudo random generators\n",
      " |  :param device: Device (cpu, cuda, ...) on which the code should be run.\n",
      " |      Setting it to auto, the code will be run on the GPU if possible.\n",
      " |  :param _init_setup_model: Whether or not to build the network at the creation of the instance\n",
      " |  \n",
      " |  Method resolution order:\n",
      " |      PPO\n",
      " |      stable_baselines3.common.on_policy_algorithm.OnPolicyAlgorithm\n",
      " |      stable_baselines3.common.base_class.BaseAlgorithm\n",
      " |      abc.ABC\n",
      " |      builtins.object\n",
      " |  \n",
      " |  Methods defined here:\n",
      " |  \n",
      " |  __init__(self, policy: Union[str, Type[stable_baselines3.common.policies.ActorCriticPolicy]], env: Union[gymnasium.core.Env, stable_baselines3.common.vec_env.base_vec_env.VecEnv, str], learning_rate: Union[float, Callable[[float], float]] = 0.0003, n_steps: int = 2048, batch_size: int = 64, n_epochs: int = 10, gamma: float = 0.99, gae_lambda: float = 0.95, clip_range: Union[float, Callable[[float], float]] = 0.2, clip_range_vf: Union[NoneType, float, Callable[[float], float]] = None, normalize_advantage: bool = True, ent_coef: float = 0.0, vf_coef: float = 0.5, max_grad_norm: float = 0.5, use_sde: bool = False, sde_sample_freq: int = -1, target_kl: Optional[float] = None, stats_window_size: int = 100, tensorboard_log: Optional[str] = None, policy_kwargs: Optional[Dict[str, Any]] = None, verbose: int = 0, seed: Optional[int] = None, device: Union[torch.device, str] = 'auto', _init_setup_model: bool = True)\n",
      " |      Initialize self.  See help(type(self)) for accurate signature.\n",
      " |  \n",
      " |  learn(self: ~SelfPPO, total_timesteps: int, callback: Union[NoneType, Callable, List[stable_baselines3.common.callbacks.BaseCallback], stable_baselines3.common.callbacks.BaseCallback] = None, log_interval: int = 1, tb_log_name: str = 'PPO', reset_num_timesteps: bool = True, progress_bar: bool = False) -> ~SelfPPO\n",
      " |      Return a trained model.\n",
      " |      \n",
      " |      :param total_timesteps: The total number of samples (env steps) to train on\n",
      " |      :param callback: callback(s) called at every step with state of the algorithm.\n",
      " |      :param log_interval: The number of episodes before logging.\n",
      " |      :param tb_log_name: the name of the run for TensorBoard logging\n",
      " |      :param reset_num_timesteps: whether or not to reset the current timestep number (used in logging)\n",
      " |      :param progress_bar: Display a progress bar using tqdm and rich.\n",
      " |      :return: the trained model\n",
      " |  \n",
      " |  train(self) -> None\n",
      " |      Update policy using the currently gathered rollout buffer.\n",
      " |  \n",
      " |  ----------------------------------------------------------------------\n",
      " |  Data and other attributes defined here:\n",
      " |  \n",
      " |  __abstractmethods__ = frozenset()\n",
      " |  \n",
      " |  __annotations__ = {'policy_aliases': typing.ClassVar[typing.Dict[str, ...\n",
      " |  \n",
      " |  policy_aliases = {'CnnPolicy': <class 'stable_baselines3.common.polici...\n",
      " |  \n",
      " |  ----------------------------------------------------------------------\n",
      " |  Methods inherited from stable_baselines3.common.on_policy_algorithm.OnPolicyAlgorithm:\n",
      " |  \n",
      " |  collect_rollouts(self, env: stable_baselines3.common.vec_env.base_vec_env.VecEnv, callback: stable_baselines3.common.callbacks.BaseCallback, rollout_buffer: stable_baselines3.common.buffers.RolloutBuffer, n_rollout_steps: int) -> bool\n",
      " |      Collect experiences using the current policy and fill a ``RolloutBuffer``.\n",
      " |      The term rollout here refers to the model-free notion and should not\n",
      " |      be used with the concept of rollout used in model-based RL or planning.\n",
      " |      \n",
      " |      :param env: The training environment\n",
      " |      :param callback: Callback that will be called at each step\n",
      " |          (and at the beginning and end of the rollout)\n",
      " |      :param rollout_buffer: Buffer to fill with rollouts\n",
      " |      :param n_rollout_steps: Number of experiences to collect per environment\n",
      " |      :return: True if function returned with at least `n_rollout_steps`\n",
      " |          collected, False if callback terminated rollout prematurely.\n",
      " |  \n",
      " |  ----------------------------------------------------------------------\n",
      " |  Methods inherited from stable_baselines3.common.base_class.BaseAlgorithm:\n",
      " |  \n",
      " |  get_env(self) -> Optional[stable_baselines3.common.vec_env.base_vec_env.VecEnv]\n",
      " |      Returns the current environment (can be None if not defined).\n",
      " |      \n",
      " |      :return: The current environment\n",
      " |  \n",
      " |  get_parameters(self) -> Dict[str, Dict]\n",
      " |      Return the parameters of the agent. This includes parameters from different networks, e.g.\n",
      " |      critics (value functions) and policies (pi functions).\n",
      " |      \n",
      " |      :return: Mapping of from names of the objects to PyTorch state-dicts.\n",
      " |  \n",
      " |  get_vec_normalize_env(self) -> Optional[stable_baselines3.common.vec_env.vec_normalize.VecNormalize]\n",
      " |      Return the ``VecNormalize`` wrapper of the training env\n",
      " |      if it exists.\n",
      " |      \n",
      " |      :return: The ``VecNormalize`` env.\n",
      " |  \n",
      " |  predict(self, observation: Union[numpy.ndarray, Dict[str, numpy.ndarray]], state: Optional[Tuple[numpy.ndarray, ...]] = None, episode_start: Optional[numpy.ndarray] = None, deterministic: bool = False) -> Tuple[numpy.ndarray, Optional[Tuple[numpy.ndarray, ...]]]\n",
      " |      Get the policy action from an observation (and optional hidden state).\n",
      " |      Includes sugar-coating to handle different observations (e.g. normalizing images).\n",
      " |      \n",
      " |      :param observation: the input observation\n",
      " |      :param state: The last hidden states (can be None, used in recurrent policies)\n",
      " |      :param episode_start: The last masks (can be None, used in recurrent policies)\n",
      " |          this correspond to beginning of episodes,\n",
      " |          where the hidden states of the RNN must be reset.\n",
      " |      :param deterministic: Whether or not to return deterministic actions.\n",
      " |      :return: the model's action and the next hidden state\n",
      " |          (used in recurrent policies)\n",
      " |  \n",
      " |  save(self, path: Union[str, pathlib.Path, io.BufferedIOBase], exclude: Optional[Iterable[str]] = None, include: Optional[Iterable[str]] = None) -> None\n",
      " |      Save all the attributes of the object and the model parameters in a zip-file.\n",
      " |      \n",
      " |      :param path: path to the file where the rl agent should be saved\n",
      " |      :param exclude: name of parameters that should be excluded in addition to the default ones\n",
      " |      :param include: name of parameters that might be excluded but should be included anyway\n",
      " |  \n",
      " |  set_env(self, env: Union[gymnasium.core.Env, stable_baselines3.common.vec_env.base_vec_env.VecEnv], force_reset: bool = True) -> None\n",
      " |      Checks the validity of the environment, and if it is coherent, set it as the current environment.\n",
      " |      Furthermore wrap any non vectorized env into a vectorized\n",
      " |      checked parameters:\n",
      " |      - observation_space\n",
      " |      - action_space\n",
      " |      \n",
      " |      :param env: The environment for learning a policy\n",
      " |      :param force_reset: Force call to ``reset()`` before training\n",
      " |          to avoid unexpected behavior.\n",
      " |          See issue https://github.com/DLR-RM/stable-baselines3/issues/597\n",
      " |  \n",
      " |  set_logger(self, logger: stable_baselines3.common.logger.Logger) -> None\n",
      " |      Setter for for logger object.\n",
      " |      \n",
      " |      .. warning::\n",
      " |      \n",
      " |        When passing a custom logger object,\n",
      " |        this will overwrite ``tensorboard_log`` and ``verbose`` settings\n",
      " |        passed to the constructor.\n",
      " |  \n",
      " |  set_parameters(self, load_path_or_dict: Union[str, Dict[str, torch.Tensor]], exact_match: bool = True, device: Union[torch.device, str] = 'auto') -> None\n",
      " |      Load parameters from a given zip-file or a nested dictionary containing parameters for\n",
      " |      different modules (see ``get_parameters``).\n",
      " |      \n",
      " |      :param load_path_or_iter: Location of the saved data (path or file-like, see ``save``), or a nested\n",
      " |          dictionary containing nn.Module parameters used by the policy. The dictionary maps\n",
      " |          object names to a state-dictionary returned by ``torch.nn.Module.state_dict()``.\n",
      " |      :param exact_match: If True, the given parameters should include parameters for each\n",
      " |          module and each of their parameters, otherwise raises an Exception. If set to False, this\n",
      " |          can be used to update only specific parameters.\n",
      " |      :param device: Device on which the code should run.\n",
      " |  \n",
      " |  set_random_seed(self, seed: Optional[int] = None) -> None\n",
      " |      Set the seed of the pseudo-random generators\n",
      " |      (python, numpy, pytorch, gym, action_space)\n",
      " |      \n",
      " |      :param seed:\n",
      " |  \n",
      " |  ----------------------------------------------------------------------\n",
      " |  Class methods inherited from stable_baselines3.common.base_class.BaseAlgorithm:\n",
      " |  \n",
      " |  load(path: Union[str, pathlib.Path, io.BufferedIOBase], env: Union[gymnasium.core.Env, stable_baselines3.common.vec_env.base_vec_env.VecEnv, NoneType] = None, device: Union[torch.device, str] = 'auto', custom_objects: Optional[Dict[str, Any]] = None, print_system_info: bool = False, force_reset: bool = True, **kwargs) -> ~SelfBaseAlgorithm from abc.ABCMeta\n",
      " |      Load the model from a zip-file.\n",
      " |      Warning: ``load`` re-creates the model from scratch, it does not update it in-place!\n",
      " |      For an in-place load use ``set_parameters`` instead.\n",
      " |      \n",
      " |      :param path: path to the file (or a file-like) where to\n",
      " |          load the agent from\n",
      " |      :param env: the new environment to run the loaded model on\n",
      " |          (can be None if you only need prediction from a trained model) has priority over any saved environment\n",
      " |      :param device: Device on which the code should run.\n",
      " |      :param custom_objects: Dictionary of objects to replace\n",
      " |          upon loading. If a variable is present in this dictionary as a\n",
      " |          key, it will not be deserialized and the corresponding item\n",
      " |          will be used instead. Similar to custom_objects in\n",
      " |          ``keras.models.load_model``. Useful when you have an object in\n",
      " |          file that can not be deserialized.\n",
      " |      :param print_system_info: Whether to print system info from the saved model\n",
      " |          and the current system info (useful to debug loading issues)\n",
      " |      :param force_reset: Force call to ``reset()`` before training\n",
      " |          to avoid unexpected behavior.\n",
      " |          See https://github.com/DLR-RM/stable-baselines3/issues/597\n",
      " |      :param kwargs: extra arguments to change the model when loading\n",
      " |      :return: new model instance with loaded parameters\n",
      " |  \n",
      " |  ----------------------------------------------------------------------\n",
      " |  Readonly properties inherited from stable_baselines3.common.base_class.BaseAlgorithm:\n",
      " |  \n",
      " |  logger\n",
      " |      Getter for the logger object.\n",
      " |  \n",
      " |  ----------------------------------------------------------------------\n",
      " |  Data descriptors inherited from stable_baselines3.common.base_class.BaseAlgorithm:\n",
      " |  \n",
      " |  __dict__\n",
      " |      dictionary for instance variables (if defined)\n",
      " |  \n",
      " |  __weakref__\n",
      " |      list of weak references to the object (if defined)\n",
      "\n"
     ]
    }
   ],
   "source": [
    "# help on PPO\n",
    "help(PPO)"
   ]
  },
  {
   "cell_type": "code",
   "execution_count": 21,
   "metadata": {},
   "outputs": [
    {
     "name": "stdout",
     "output_type": "stream",
     "text": [
      "Logging to training\\logs\\PPO_2\n",
      "-----------------------------\n",
      "| time/              |      |\n",
      "|    fps             | 54   |\n",
      "|    iterations      | 1    |\n",
      "|    time_elapsed    | 37   |\n",
      "|    total_timesteps | 2048 |\n",
      "-----------------------------\n",
      "-----------------------------------------\n",
      "| time/                   |             |\n",
      "|    fps                  | 86          |\n",
      "|    iterations           | 2           |\n",
      "|    time_elapsed         | 47          |\n",
      "|    total_timesteps      | 4096        |\n",
      "| train/                  |             |\n",
      "|    approx_kl            | 0.009469858 |\n",
      "|    clip_fraction        | 0.116       |\n",
      "|    clip_range           | 0.2         |\n",
      "|    entropy_loss         | -0.686      |\n",
      "|    explained_variance   | 0.00476     |\n",
      "|    learning_rate        | 0.0003      |\n",
      "|    loss                 | 6.76        |\n",
      "|    n_updates            | 10          |\n",
      "|    policy_gradient_loss | -0.0163     |\n",
      "|    value_loss           | 56.2        |\n",
      "-----------------------------------------\n",
      "-----------------------------------------\n",
      "| time/                   |             |\n",
      "|    fps                  | 107         |\n",
      "|    iterations           | 3           |\n",
      "|    time_elapsed         | 57          |\n",
      "|    total_timesteps      | 6144        |\n",
      "| train/                  |             |\n",
      "|    approx_kl            | 0.009610366 |\n",
      "|    clip_fraction        | 0.0641      |\n",
      "|    clip_range           | 0.2         |\n",
      "|    entropy_loss         | -0.667      |\n",
      "|    explained_variance   | 0.0749      |\n",
      "|    learning_rate        | 0.0003      |\n",
      "|    loss                 | 16          |\n",
      "|    n_updates            | 20          |\n",
      "|    policy_gradient_loss | -0.0171     |\n",
      "|    value_loss           | 36.1        |\n",
      "-----------------------------------------\n",
      "-----------------------------------------\n",
      "| time/                   |             |\n",
      "|    fps                  | 123         |\n",
      "|    iterations           | 4           |\n",
      "|    time_elapsed         | 66          |\n",
      "|    total_timesteps      | 8192        |\n",
      "| train/                  |             |\n",
      "|    approx_kl            | 0.009825832 |\n",
      "|    clip_fraction        | 0.106       |\n",
      "|    clip_range           | 0.2         |\n",
      "|    entropy_loss         | -0.635      |\n",
      "|    explained_variance   | 0.253       |\n",
      "|    learning_rate        | 0.0003      |\n",
      "|    loss                 | 18.6        |\n",
      "|    n_updates            | 30          |\n",
      "|    policy_gradient_loss | -0.0212     |\n",
      "|    value_loss           | 55.1        |\n",
      "-----------------------------------------\n",
      "-----------------------------------------\n",
      "| time/                   |             |\n",
      "|    fps                  | 136         |\n",
      "|    iterations           | 5           |\n",
      "|    time_elapsed         | 74          |\n",
      "|    total_timesteps      | 10240       |\n",
      "| train/                  |             |\n",
      "|    approx_kl            | 0.007433787 |\n",
      "|    clip_fraction        | 0.0716      |\n",
      "|    clip_range           | 0.2         |\n",
      "|    entropy_loss         | -0.604      |\n",
      "|    explained_variance   | 0.27        |\n",
      "|    learning_rate        | 0.0003      |\n",
      "|    loss                 | 25.6        |\n",
      "|    n_updates            | 40          |\n",
      "|    policy_gradient_loss | -0.0163     |\n",
      "|    value_loss           | 66.6        |\n",
      "-----------------------------------------\n",
      "------------------------------------------\n",
      "| time/                   |              |\n",
      "|    fps                  | 146          |\n",
      "|    iterations           | 6            |\n",
      "|    time_elapsed         | 83           |\n",
      "|    total_timesteps      | 12288        |\n",
      "| train/                  |              |\n",
      "|    approx_kl            | 0.0073353453 |\n",
      "|    clip_fraction        | 0.0763       |\n",
      "|    clip_range           | 0.2          |\n",
      "|    entropy_loss         | -0.584       |\n",
      "|    explained_variance   | 0.403        |\n",
      "|    learning_rate        | 0.0003       |\n",
      "|    loss                 | 24.5         |\n",
      "|    n_updates            | 50           |\n",
      "|    policy_gradient_loss | -0.0167      |\n",
      "|    value_loss           | 64.4         |\n",
      "------------------------------------------\n",
      "-----------------------------------------\n",
      "| time/                   |             |\n",
      "|    fps                  | 154         |\n",
      "|    iterations           | 7           |\n",
      "|    time_elapsed         | 92          |\n",
      "|    total_timesteps      | 14336       |\n",
      "| train/                  |             |\n",
      "|    approx_kl            | 0.008644178 |\n",
      "|    clip_fraction        | 0.0874      |\n",
      "|    clip_range           | 0.2         |\n",
      "|    entropy_loss         | -0.576      |\n",
      "|    explained_variance   | 0.605       |\n",
      "|    learning_rate        | 0.0003      |\n",
      "|    loss                 | 36.9        |\n",
      "|    n_updates            | 60          |\n",
      "|    policy_gradient_loss | -0.0112     |\n",
      "|    value_loss           | 51.5        |\n",
      "-----------------------------------------\n",
      "-----------------------------------------\n",
      "| time/                   |             |\n",
      "|    fps                  | 162         |\n",
      "|    iterations           | 8           |\n",
      "|    time_elapsed         | 101         |\n",
      "|    total_timesteps      | 16384       |\n",
      "| train/                  |             |\n",
      "|    approx_kl            | 0.004780106 |\n",
      "|    clip_fraction        | 0.0366      |\n",
      "|    clip_range           | 0.2         |\n",
      "|    entropy_loss         | -0.568      |\n",
      "|    explained_variance   | 0.701       |\n",
      "|    learning_rate        | 0.0003      |\n",
      "|    loss                 | 6.09        |\n",
      "|    n_updates            | 70          |\n",
      "|    policy_gradient_loss | -0.00729    |\n",
      "|    value_loss           | 42.7        |\n",
      "-----------------------------------------\n",
      "-----------------------------------------\n",
      "| time/                   |             |\n",
      "|    fps                  | 165         |\n",
      "|    iterations           | 9           |\n",
      "|    time_elapsed         | 111         |\n",
      "|    total_timesteps      | 18432       |\n",
      "| train/                  |             |\n",
      "|    approx_kl            | 0.012677374 |\n",
      "|    clip_fraction        | 0.171       |\n",
      "|    clip_range           | 0.2         |\n",
      "|    entropy_loss         | -0.586      |\n",
      "|    explained_variance   | 0.917       |\n",
      "|    learning_rate        | 0.0003      |\n",
      "|    loss                 | 5.99        |\n",
      "|    n_updates            | 80          |\n",
      "|    policy_gradient_loss | -0.0162     |\n",
      "|    value_loss           | 21.3        |\n",
      "-----------------------------------------\n",
      "------------------------------------------\n",
      "| time/                   |              |\n",
      "|    fps                  | 169          |\n",
      "|    iterations           | 10           |\n",
      "|    time_elapsed         | 120          |\n",
      "|    total_timesteps      | 20480        |\n",
      "| train/                  |              |\n",
      "|    approx_kl            | 0.0070911692 |\n",
      "|    clip_fraction        | 0.0851       |\n",
      "|    clip_range           | 0.2          |\n",
      "|    entropy_loss         | -0.576       |\n",
      "|    explained_variance   | 0.703        |\n",
      "|    learning_rate        | 0.0003       |\n",
      "|    loss                 | 9.63         |\n",
      "|    n_updates            | 90           |\n",
      "|    policy_gradient_loss | -0.0135      |\n",
      "|    value_loss           | 43.3         |\n",
      "------------------------------------------\n"
     ]
    },
    {
     "data": {
      "text/plain": [
       "<stable_baselines3.ppo.ppo.PPO at 0x1b981fe48b0>"
      ]
     },
     "execution_count": 21,
     "metadata": {},
     "output_type": "execute_result"
    }
   ],
   "source": [
    "# training\n",
    "model.learn(total_timesteps=20000)"
   ]
  },
  {
   "attachments": {},
   "cell_type": "markdown",
   "metadata": {},
   "source": [
    "## Save and Reload"
   ]
  },
  {
   "cell_type": "code",
   "execution_count": 22,
   "metadata": {},
   "outputs": [],
   "source": [
    "PPO_Path = os.path.join('training', 'saved-models', 'PPO_Model_CartPole')"
   ]
  },
  {
   "cell_type": "code",
   "execution_count": 23,
   "metadata": {},
   "outputs": [],
   "source": [
    "model.save(PPO_Path)"
   ]
  },
  {
   "cell_type": "code",
   "execution_count": null,
   "metadata": {},
   "outputs": [],
   "source": [
    "# delete model to demonstrate loading\n",
    "del model\n",
    "# load model    \n",
    "model = PPO.load(PPO_Path, env=env)"
   ]
  },
  {
   "attachments": {},
   "cell_type": "markdown",
   "metadata": {},
   "source": [
    "## Evaluation"
   ]
  },
  {
   "attachments": {},
   "cell_type": "markdown",
   "metadata": {},
   "source": []
  },
  {
   "cell_type": "code",
   "execution_count": 24,
   "metadata": {},
   "outputs": [
    {
     "name": "stderr",
     "output_type": "stream",
     "text": [
      "c:\\Users\\Tinho\\anaconda3\\envs\\gpu-env\\lib\\site-packages\\stable_baselines3\\common\\evaluation.py:67: UserWarning: Evaluation environment is not wrapped with a ``Monitor`` wrapper. This may result in reporting modified episode lengths and rewards, if other wrappers happen to modify these. Consider wrapping environment first with ``Monitor`` wrapper.\n",
      "  warnings.warn(\n",
      "c:\\Users\\Tinho\\anaconda3\\envs\\gpu-env\\lib\\site-packages\\stable_baselines3\\common\\vec_env\\base_vec_env.py:234: UserWarning: You tried to call render() but no `render_mode` was passed to the env constructor.\n",
      "  warnings.warn(\"You tried to call render() but no `render_mode` was passed to the env constructor.\")\n"
     ]
    },
    {
     "data": {
      "text/plain": [
       "(500.0, 0.0)"
      ]
     },
     "execution_count": 24,
     "metadata": {},
     "output_type": "execute_result"
    }
   ],
   "source": [
    "evaluate_policy(model, env, n_eval_episodes=10, render=True)"
   ]
  },
  {
   "cell_type": "code",
   "execution_count": 25,
   "metadata": {},
   "outputs": [],
   "source": [
    "# close the environment\n",
    "env.close()"
   ]
  },
  {
   "attachments": {},
   "cell_type": "markdown",
   "metadata": {},
   "source": [
    "## Test Model"
   ]
  },
  {
   "cell_type": "code",
   "execution_count": 27,
   "metadata": {},
   "outputs": [
    {
     "name": "stdout",
     "output_type": "stream",
     "text": [
      "Episode:1 Score:[500.]\n",
      "Episode:2 Score:[246.]\n",
      "Episode:3 Score:[500.]\n",
      "Episode:4 Score:[500.]\n",
      "Episode:5 Score:[500.]\n"
     ]
    }
   ],
   "source": [
    "episodes = 5\n",
    "for episode in range(1, episodes+1):\n",
    "    obs = env.reset()\n",
    "    done = False\n",
    "    score = 0\n",
    "\n",
    "    while not done:\n",
    "        env.render()\n",
    "        action, _ = model.predict(obs) # here we use the model to predict the action\n",
    "        obs, reward, done, info = env.step(action)\n",
    "        score += reward\n",
    "    print('Episode:{} Score:{}'.format(episode, score))\n",
    "# close the environment\n",
    "# env.close()"
   ]
  },
  {
   "attachments": {},
   "cell_type": "markdown",
   "metadata": {},
   "source": [
    "## Viewing logs"
   ]
  },
  {
   "attachments": {},
   "cell_type": "markdown",
   "metadata": {},
   "source": []
  },
  {
   "cell_type": "code",
   "execution_count": null,
   "metadata": {},
   "outputs": [],
   "source": [
    "training_log_path = os.path.join(log_path, 'PPO_1')"
   ]
  },
  {
   "cell_type": "code",
   "execution_count": 28,
   "metadata": {},
   "outputs": [
    {
     "name": "stdout",
     "output_type": "stream",
     "text": [
      "^C\n"
     ]
    }
   ],
   "source": [
    "!tensorboard --logdir={training_log_path}"
   ]
  }
 ],
 "metadata": {
  "kernelspec": {
   "display_name": "gpu-env",
   "language": "python",
   "name": "python3"
  },
  "language_info": {
   "codemirror_mode": {
    "name": "ipython",
    "version": 3
   },
   "file_extension": ".py",
   "mimetype": "text/x-python",
   "name": "python",
   "nbconvert_exporter": "python",
   "pygments_lexer": "ipython3",
   "version": "3.10.9"
  },
  "orig_nbformat": 4
 },
 "nbformat": 4,
 "nbformat_minor": 2
}
