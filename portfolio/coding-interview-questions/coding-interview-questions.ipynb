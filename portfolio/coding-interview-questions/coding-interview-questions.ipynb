{
 "cells": [
  {
   "cell_type": "markdown",
   "id": "4d39446b",
   "metadata": {},
   "source": [
    "## Given the data frame below, write a function that return the rows where the color is green or red and grade is above 90"
   ]
  },
  {
   "cell_type": "code",
   "execution_count": 1,
   "id": "be07139c",
   "metadata": {},
   "outputs": [
    {
     "data": {
      "text/html": [
       "<div>\n",
       "<style scoped>\n",
       "    .dataframe tbody tr th:only-of-type {\n",
       "        vertical-align: middle;\n",
       "    }\n",
       "\n",
       "    .dataframe tbody tr th {\n",
       "        vertical-align: top;\n",
       "    }\n",
       "\n",
       "    .dataframe thead th {\n",
       "        text-align: right;\n",
       "    }\n",
       "</style>\n",
       "<table border=\"1\" class=\"dataframe\">\n",
       "  <thead>\n",
       "    <tr style=\"text-align: right;\">\n",
       "      <th></th>\n",
       "      <th>Name</th>\n",
       "      <th>Age</th>\n",
       "      <th>Color</th>\n",
       "      <th>Grade</th>\n",
       "    </tr>\n",
       "  </thead>\n",
       "  <tbody>\n",
       "    <tr>\n",
       "      <th>0</th>\n",
       "      <td>John</td>\n",
       "      <td>21</td>\n",
       "      <td>Green</td>\n",
       "      <td>90</td>\n",
       "    </tr>\n",
       "    <tr>\n",
       "      <th>1</th>\n",
       "      <td>JT</td>\n",
       "      <td>30</td>\n",
       "      <td>Blue</td>\n",
       "      <td>70</td>\n",
       "    </tr>\n",
       "    <tr>\n",
       "      <th>2</th>\n",
       "      <td>Mario</td>\n",
       "      <td>43</td>\n",
       "      <td>Red</td>\n",
       "      <td>95</td>\n",
       "    </tr>\n",
       "    <tr>\n",
       "      <th>3</th>\n",
       "      <td>Lance</td>\n",
       "      <td>33</td>\n",
       "      <td>Green</td>\n",
       "      <td>50</td>\n",
       "    </tr>\n",
       "    <tr>\n",
       "      <th>4</th>\n",
       "      <td>Zara</td>\n",
       "      <td>23</td>\n",
       "      <td>Red</td>\n",
       "      <td>91</td>\n",
       "    </tr>\n",
       "  </tbody>\n",
       "</table>\n",
       "</div>"
      ],
      "text/plain": [
       "    Name  Age  Color  Grade\n",
       "0   John   21  Green     90\n",
       "1     JT   30   Blue     70\n",
       "2  Mario   43    Red     95\n",
       "3  Lance   33  Green     50\n",
       "4   Zara   23    Red     91"
      ]
     },
     "execution_count": 1,
     "metadata": {},
     "output_type": "execute_result"
    }
   ],
   "source": [
    "import pandas as pd\n",
    "\n",
    "\n",
    "\n",
    "data = {'Name': ['John','JT','Mario','Lance', 'Zara'],\n",
    "        'Age': [21,30,43,33,23],\n",
    "        'Color': ['Green','Blue','Red','Green', 'Red'],\n",
    "        'Grade': [90,70,95,50,91]}\n",
    "\n",
    "df = pd.DataFrame(data,\n",
    "                  columns=['Name','Age','Color','Grade'])\n",
    "df"
   ]
  },
  {
   "cell_type": "code",
   "execution_count": 9,
   "id": "64c67545",
   "metadata": {},
   "outputs": [
    {
     "data": {
      "text/html": [
       "<div>\n",
       "<style scoped>\n",
       "    .dataframe tbody tr th:only-of-type {\n",
       "        vertical-align: middle;\n",
       "    }\n",
       "\n",
       "    .dataframe tbody tr th {\n",
       "        vertical-align: top;\n",
       "    }\n",
       "\n",
       "    .dataframe thead th {\n",
       "        text-align: right;\n",
       "    }\n",
       "</style>\n",
       "<table border=\"1\" class=\"dataframe\">\n",
       "  <thead>\n",
       "    <tr style=\"text-align: right;\">\n",
       "      <th></th>\n",
       "      <th>Name</th>\n",
       "      <th>Age</th>\n",
       "      <th>Color</th>\n",
       "      <th>Grade</th>\n",
       "    </tr>\n",
       "  </thead>\n",
       "  <tbody>\n",
       "    <tr>\n",
       "      <th>0</th>\n",
       "      <td>John</td>\n",
       "      <td>21</td>\n",
       "      <td>Green</td>\n",
       "      <td>90</td>\n",
       "    </tr>\n",
       "    <tr>\n",
       "      <th>2</th>\n",
       "      <td>Mario</td>\n",
       "      <td>43</td>\n",
       "      <td>Red</td>\n",
       "      <td>95</td>\n",
       "    </tr>\n",
       "    <tr>\n",
       "      <th>4</th>\n",
       "      <td>Zara</td>\n",
       "      <td>23</td>\n",
       "      <td>Red</td>\n",
       "      <td>91</td>\n",
       "    </tr>\n",
       "  </tbody>\n",
       "</table>\n",
       "</div>"
      ],
      "text/plain": [
       "    Name  Age  Color  Grade\n",
       "0   John   21  Green     90\n",
       "2  Mario   43    Red     95\n",
       "4   Zara   23    Red     91"
      ]
     },
     "execution_count": 9,
     "metadata": {},
     "output_type": "execute_result"
    }
   ],
   "source": [
    "# this is the core logic\n",
    "df[((df['Color']=='Green') | (df['Color']=='Red')) & (df['Grade']>=90)]"
   ]
  },
  {
   "cell_type": "code",
   "execution_count": 10,
   "id": "8cd3a682",
   "metadata": {},
   "outputs": [],
   "source": [
    "def extractrows(df):\n",
    "    \"\"\"extracts rows where the color is green or red and grade is above 90\"\"\"\n",
    "    return df[((df['Color']=='Green') | (df['Color']=='Red')) & (df['Grade']>=90)]\n"
   ]
  },
  {
   "cell_type": "code",
   "execution_count": 12,
   "id": "18f82828",
   "metadata": {},
   "outputs": [],
   "source": [
    "df2=extractrows(df)"
   ]
  },
  {
   "cell_type": "code",
   "execution_count": 13,
   "id": "842cd023",
   "metadata": {},
   "outputs": [
    {
     "data": {
      "text/html": [
       "<div>\n",
       "<style scoped>\n",
       "    .dataframe tbody tr th:only-of-type {\n",
       "        vertical-align: middle;\n",
       "    }\n",
       "\n",
       "    .dataframe tbody tr th {\n",
       "        vertical-align: top;\n",
       "    }\n",
       "\n",
       "    .dataframe thead th {\n",
       "        text-align: right;\n",
       "    }\n",
       "</style>\n",
       "<table border=\"1\" class=\"dataframe\">\n",
       "  <thead>\n",
       "    <tr style=\"text-align: right;\">\n",
       "      <th></th>\n",
       "      <th>Name</th>\n",
       "      <th>Age</th>\n",
       "      <th>Color</th>\n",
       "      <th>Grade</th>\n",
       "    </tr>\n",
       "  </thead>\n",
       "  <tbody>\n",
       "    <tr>\n",
       "      <th>0</th>\n",
       "      <td>John</td>\n",
       "      <td>21</td>\n",
       "      <td>Green</td>\n",
       "      <td>90</td>\n",
       "    </tr>\n",
       "    <tr>\n",
       "      <th>2</th>\n",
       "      <td>Mario</td>\n",
       "      <td>43</td>\n",
       "      <td>Red</td>\n",
       "      <td>95</td>\n",
       "    </tr>\n",
       "    <tr>\n",
       "      <th>4</th>\n",
       "      <td>Zara</td>\n",
       "      <td>23</td>\n",
       "      <td>Red</td>\n",
       "      <td>91</td>\n",
       "    </tr>\n",
       "  </tbody>\n",
       "</table>\n",
       "</div>"
      ],
      "text/plain": [
       "    Name  Age  Color  Grade\n",
       "0   John   21  Green     90\n",
       "2  Mario   43    Red     95\n",
       "4   Zara   23    Red     91"
      ]
     },
     "execution_count": 13,
     "metadata": {},
     "output_type": "execute_result"
    }
   ],
   "source": [
    "df2"
   ]
  },
  {
   "cell_type": "markdown",
   "id": "152a9582",
   "metadata": {},
   "source": [
    "## Given the matrix below, find the transpose (without using built-in methods/functions)"
   ]
  },
  {
   "cell_type": "code",
   "execution_count": 15,
   "id": "063c29cc",
   "metadata": {},
   "outputs": [
    {
     "data": {
      "text/plain": [
       "array([[1, 2, 3],\n",
       "       [4, 5, 6]])"
      ]
     },
     "execution_count": 15,
     "metadata": {},
     "output_type": "execute_result"
    }
   ],
   "source": [
    "import numpy as np\n",
    "A = np.array([[1,2,3],\n",
    "              [4,5,6]])\n",
    "A"
   ]
  },
  {
   "cell_type": "code",
   "execution_count": 21,
   "id": "73af628b",
   "metadata": {},
   "outputs": [
    {
     "name": "stdout",
     "output_type": "stream",
     "text": [
      "[[1 2 3]\n",
      " [4 5 6]]\n",
      "[[1. 4.]\n",
      " [2. 5.]\n",
      " [3. 6.]]\n"
     ]
    }
   ],
   "source": [
    "rows=A.shape[0]\n",
    "cols=A.shape[1]\n",
    "# print(rows,cols)\n",
    "B=np.zeros((cols,rows))\n",
    "# print(B)\n",
    "for col in range(cols):\n",
    "    for row in range(rows):\n",
    "        B[col,row]=A[row,col]\n",
    "\n",
    "print(A)\n",
    "print(B)"
   ]
  },
  {
   "cell_type": "markdown",
   "id": "95818e81",
   "metadata": {},
   "source": [
    "# What does this function will print"
   ]
  },
  {
   "cell_type": "code",
   "execution_count": 6,
   "id": "00bdce71",
   "metadata": {},
   "outputs": [],
   "source": [
    "def what_is_it_that_i_actually_do(array1, d):\n",
    "    temp=[]\n",
    "    i=0\n",
    "    n=len(array1)\n",
    "\n",
    "    while (i<d):\n",
    "        temp.append(array1[i])\n",
    "        i=i+1\n",
    "\n",
    "    i=0\n",
    "    while (d<n):\n",
    "        array1[i]=array1[d]\n",
    "        d=d+1\n",
    "        i=i+1\n",
    "    \n",
    "    return array1[:i]+temp"
   ]
  },
  {
   "cell_type": "markdown",
   "id": "da1f47fe",
   "metadata": {},
   "source": [
    "When we use the above function with the following inputs, what will be the output of this function:\n",
    "what_is_it_that_i_actually_do([1,2,3,4,5,6,7], 2)"
   ]
  },
  {
   "cell_type": "markdown",
   "id": "565a3a91",
   "metadata": {},
   "source": [
    "The solution is below but give it a try first. Remember, in a live coding interview you will have people watching you while you try to solve it, no time for google/stackoverflow :D, your time will be somewhat limited, you will feel the presure, and the stakes are usually quite high. I would suggest using the array provided and go through the function slowly and step by step, updating all variables along the way in a safe and organized way. Good luck! You can do it!"
   ]
  },
  {
   "cell_type": "code",
   "execution_count": null,
   "id": "6bb50a85",
   "metadata": {},
   "outputs": [],
   "source": [
    "# Lets create an array\n",
    "array1 = [1,2,3,4,5,6,7]\n",
    "\n",
    "temp=[]\n",
    "i=0\n",
    "# Lenght of this array will be 7\n",
    "n=len(array1)\n",
    "# This section appends the first i elements to temp\n",
    "while (i<d):\n",
    "    temp.append(array1[i])\n",
    "    i=i+1\n",
    "# This section does a shift to the left by d units   \n",
    "i=0\n",
    "while (d<n):\n",
    "    array1[i]=array1[d]\n",
    "    d=d+1\n",
    "    i=i+1\n",
    "# let us see what is on the outputs\n",
    "print(temp)\n",
    "print(array1)\n",
    "print(array1[:i]+temp)"
   ]
  }
 ],
 "metadata": {
  "kernelspec": {
   "display_name": "Python 3 (ipykernel)",
   "language": "python",
   "name": "python3"
  },
  "language_info": {
   "codemirror_mode": {
    "name": "ipython",
    "version": 3
   },
   "file_extension": ".py",
   "mimetype": "text/x-python",
   "name": "python",
   "nbconvert_exporter": "python",
   "pygments_lexer": "ipython3",
   "version": "3.9.12"
  }
 },
 "nbformat": 4,
 "nbformat_minor": 5
}
