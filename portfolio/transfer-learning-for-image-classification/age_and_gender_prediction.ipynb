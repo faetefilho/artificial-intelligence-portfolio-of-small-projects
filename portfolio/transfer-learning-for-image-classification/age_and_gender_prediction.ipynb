{
  "cells": [
    {
      "cell_type": "markdown",
      "metadata": {
        "id": "mc9YzQadd6M7"
      },
      "source": [
        "# Deep learning A.I. algorithm for Age & Gender Prediction"
      ]
    },
    {
      "cell_type": "code",
      "execution_count": 2,
      "metadata": {
        "id": "cOvhEk7e5bR_"
      },
      "outputs": [],
      "source": [
        "import torch\n",
        "import numpy as np, cv2, pandas as pd, glob, time\n",
        "import matplotlib.pyplot as plt\n",
        "%matplotlib inline\n",
        "import torch\n",
        "import torch.nn as nn\n",
        "from torch import optim\n",
        "import torch.nn.functional as F\n",
        "from torch.utils.data import Dataset, DataLoader\n",
        "import torchvision\n",
        "from torchvision import transforms, models, datasets\n",
        "device = 'cuda' if torch.cuda.is_available() else 'cpu'"
      ]
    },
    {
      "cell_type": "code",
      "execution_count": 3,
      "metadata": {
        "colab": {
          "base_uri": "https://localhost:8080/",
          "height": 37
        },
        "id": "ngwB8hZ25kU0",
        "outputId": "e88cb1a3-7c10-4c41-ebe3-34ee48ff14b3"
      },
      "outputs": [
        {
          "output_type": "execute_result",
          "data": {
            "text/plain": [
              "'cuda'"
            ],
            "application/vnd.google.colaboratory.intrinsic+json": {
              "type": "string"
            }
          },
          "metadata": {},
          "execution_count": 3
        }
      ],
      "source": [
        "device"
      ]
    },
    {
      "cell_type": "code",
      "execution_count": 4,
      "metadata": {
        "id": "EFoNwcaR5lao"
      },
      "outputs": [],
      "source": [
        "from pydrive.auth import GoogleAuth\n",
        "from pydrive.drive import GoogleDrive\n",
        "from google.colab import auth\n",
        "from oauth2client.client import GoogleCredentials\n",
        "\n",
        "auth.authenticate_user()\n",
        "gauth = GoogleAuth()\n",
        "gauth.credentials = GoogleCredentials.get_application_default()\n",
        "drive = GoogleDrive(gauth)\n",
        "\n",
        "def getFile_from_drive( file_id, name ):\n",
        "  downloaded = drive.CreateFile({'id': file_id})\n",
        "  downloaded.GetContentFile(name)\n",
        "\n",
        "getFile_from_drive('1Z1RqRo0_JiavaZw2yzZG6WETdZQ8qX86', 'fairface-img-margin025-trainval.zip')\n",
        "getFile_from_drive('1k5vvyREmHDW5TSM9QgB04Bvc8C8_7dl-', 'fairface-label-train.csv')\n",
        "getFile_from_drive('1_rtz1M1zhvS0d5vVoXUamnohB6cJ02iJ', 'fairface-label-val.csv')\n",
        "\n",
        "!unzip -qq fairface-img-margin025-trainval.zip"
      ]
    },
    {
      "cell_type": "code",
      "execution_count": 5,
      "metadata": {
        "colab": {
          "base_uri": "https://localhost:8080/",
          "height": 204
        },
        "id": "wztm8zkg6T3r",
        "outputId": "c73df928-f609-4322-bbc7-04ef83e8e793"
      },
      "outputs": [
        {
          "output_type": "execute_result",
          "data": {
            "text/plain": [
              "          file  age  gender        race  service_test\n",
              "0  train/1.jpg   59    Male  East Asian          True\n",
              "1  train/2.jpg   39  Female      Indian         False\n",
              "2  train/3.jpg   11  Female       Black         False\n",
              "3  train/4.jpg   26  Female      Indian          True\n",
              "4  train/5.jpg   26  Female      Indian          True"
            ],
            "text/html": [
              "\n",
              "  <div id=\"df-d62cdb3c-1bae-4a43-a47f-0a845969f378\">\n",
              "    <div class=\"colab-df-container\">\n",
              "      <div>\n",
              "<style scoped>\n",
              "    .dataframe tbody tr th:only-of-type {\n",
              "        vertical-align: middle;\n",
              "    }\n",
              "\n",
              "    .dataframe tbody tr th {\n",
              "        vertical-align: top;\n",
              "    }\n",
              "\n",
              "    .dataframe thead th {\n",
              "        text-align: right;\n",
              "    }\n",
              "</style>\n",
              "<table border=\"1\" class=\"dataframe\">\n",
              "  <thead>\n",
              "    <tr style=\"text-align: right;\">\n",
              "      <th></th>\n",
              "      <th>file</th>\n",
              "      <th>age</th>\n",
              "      <th>gender</th>\n",
              "      <th>race</th>\n",
              "      <th>service_test</th>\n",
              "    </tr>\n",
              "  </thead>\n",
              "  <tbody>\n",
              "    <tr>\n",
              "      <th>0</th>\n",
              "      <td>train/1.jpg</td>\n",
              "      <td>59</td>\n",
              "      <td>Male</td>\n",
              "      <td>East Asian</td>\n",
              "      <td>True</td>\n",
              "    </tr>\n",
              "    <tr>\n",
              "      <th>1</th>\n",
              "      <td>train/2.jpg</td>\n",
              "      <td>39</td>\n",
              "      <td>Female</td>\n",
              "      <td>Indian</td>\n",
              "      <td>False</td>\n",
              "    </tr>\n",
              "    <tr>\n",
              "      <th>2</th>\n",
              "      <td>train/3.jpg</td>\n",
              "      <td>11</td>\n",
              "      <td>Female</td>\n",
              "      <td>Black</td>\n",
              "      <td>False</td>\n",
              "    </tr>\n",
              "    <tr>\n",
              "      <th>3</th>\n",
              "      <td>train/4.jpg</td>\n",
              "      <td>26</td>\n",
              "      <td>Female</td>\n",
              "      <td>Indian</td>\n",
              "      <td>True</td>\n",
              "    </tr>\n",
              "    <tr>\n",
              "      <th>4</th>\n",
              "      <td>train/5.jpg</td>\n",
              "      <td>26</td>\n",
              "      <td>Female</td>\n",
              "      <td>Indian</td>\n",
              "      <td>True</td>\n",
              "    </tr>\n",
              "  </tbody>\n",
              "</table>\n",
              "</div>\n",
              "      <button class=\"colab-df-convert\" onclick=\"convertToInteractive('df-d62cdb3c-1bae-4a43-a47f-0a845969f378')\"\n",
              "              title=\"Convert this dataframe to an interactive table.\"\n",
              "              style=\"display:none;\">\n",
              "        \n",
              "  <svg xmlns=\"http://www.w3.org/2000/svg\" height=\"24px\"viewBox=\"0 0 24 24\"\n",
              "       width=\"24px\">\n",
              "    <path d=\"M0 0h24v24H0V0z\" fill=\"none\"/>\n",
              "    <path d=\"M18.56 5.44l.94 2.06.94-2.06 2.06-.94-2.06-.94-.94-2.06-.94 2.06-2.06.94zm-11 1L8.5 8.5l.94-2.06 2.06-.94-2.06-.94L8.5 2.5l-.94 2.06-2.06.94zm10 10l.94 2.06.94-2.06 2.06-.94-2.06-.94-.94-2.06-.94 2.06-2.06.94z\"/><path d=\"M17.41 7.96l-1.37-1.37c-.4-.4-.92-.59-1.43-.59-.52 0-1.04.2-1.43.59L10.3 9.45l-7.72 7.72c-.78.78-.78 2.05 0 2.83L4 21.41c.39.39.9.59 1.41.59.51 0 1.02-.2 1.41-.59l7.78-7.78 2.81-2.81c.8-.78.8-2.07 0-2.86zM5.41 20L4 18.59l7.72-7.72 1.47 1.35L5.41 20z\"/>\n",
              "  </svg>\n",
              "      </button>\n",
              "      \n",
              "  <style>\n",
              "    .colab-df-container {\n",
              "      display:flex;\n",
              "      flex-wrap:wrap;\n",
              "      gap: 12px;\n",
              "    }\n",
              "\n",
              "    .colab-df-convert {\n",
              "      background-color: #E8F0FE;\n",
              "      border: none;\n",
              "      border-radius: 50%;\n",
              "      cursor: pointer;\n",
              "      display: none;\n",
              "      fill: #1967D2;\n",
              "      height: 32px;\n",
              "      padding: 0 0 0 0;\n",
              "      width: 32px;\n",
              "    }\n",
              "\n",
              "    .colab-df-convert:hover {\n",
              "      background-color: #E2EBFA;\n",
              "      box-shadow: 0px 1px 2px rgba(60, 64, 67, 0.3), 0px 1px 3px 1px rgba(60, 64, 67, 0.15);\n",
              "      fill: #174EA6;\n",
              "    }\n",
              "\n",
              "    [theme=dark] .colab-df-convert {\n",
              "      background-color: #3B4455;\n",
              "      fill: #D2E3FC;\n",
              "    }\n",
              "\n",
              "    [theme=dark] .colab-df-convert:hover {\n",
              "      background-color: #434B5C;\n",
              "      box-shadow: 0px 1px 3px 1px rgba(0, 0, 0, 0.15);\n",
              "      filter: drop-shadow(0px 1px 2px rgba(0, 0, 0, 0.3));\n",
              "      fill: #FFFFFF;\n",
              "    }\n",
              "  </style>\n",
              "\n",
              "      <script>\n",
              "        const buttonEl =\n",
              "          document.querySelector('#df-d62cdb3c-1bae-4a43-a47f-0a845969f378 button.colab-df-convert');\n",
              "        buttonEl.style.display =\n",
              "          google.colab.kernel.accessAllowed ? 'block' : 'none';\n",
              "\n",
              "        async function convertToInteractive(key) {\n",
              "          const element = document.querySelector('#df-d62cdb3c-1bae-4a43-a47f-0a845969f378');\n",
              "          const dataTable =\n",
              "            await google.colab.kernel.invokeFunction('convertToInteractive',\n",
              "                                                     [key], {});\n",
              "          if (!dataTable) return;\n",
              "\n",
              "          const docLinkHtml = 'Like what you see? Visit the ' +\n",
              "            '<a target=\"_blank\" href=https://colab.research.google.com/notebooks/data_table.ipynb>data table notebook</a>'\n",
              "            + ' to learn more about interactive tables.';\n",
              "          element.innerHTML = '';\n",
              "          dataTable['output_type'] = 'display_data';\n",
              "          await google.colab.output.renderOutput(dataTable, element);\n",
              "          const docLink = document.createElement('div');\n",
              "          docLink.innerHTML = docLinkHtml;\n",
              "          element.appendChild(docLink);\n",
              "        }\n",
              "      </script>\n",
              "    </div>\n",
              "  </div>\n",
              "  "
            ]
          },
          "metadata": {},
          "execution_count": 5
        }
      ],
      "source": [
        "trn_df = pd.read_csv('fairface-label-train.csv')\n",
        "val_df = pd.read_csv('fairface-label-val.csv')\n",
        "trn_df.head()"
      ]
    },
    {
      "cell_type": "code",
      "execution_count": 6,
      "metadata": {
        "colab": {
          "base_uri": "https://localhost:8080/"
        },
        "id": "RieJcexB6Wkm",
        "outputId": "26647239-f708-42d5-8505-87eb96322354"
      },
      "outputs": [
        {
          "output_type": "stream",
          "name": "stdout",
          "text": [
            "<class 'pandas.core.frame.DataFrame'>\n",
            "RangeIndex: 86744 entries, 0 to 86743\n",
            "Data columns (total 5 columns):\n",
            " #   Column        Non-Null Count  Dtype \n",
            "---  ------        --------------  ----- \n",
            " 0   file          86744 non-null  object\n",
            " 1   age           86744 non-null  int64 \n",
            " 2   gender        86744 non-null  object\n",
            " 3   race          86744 non-null  object\n",
            " 4   service_test  86744 non-null  bool  \n",
            "dtypes: bool(1), int64(1), object(3)\n",
            "memory usage: 2.7+ MB\n"
          ]
        }
      ],
      "source": [
        "trn_df.info()"
      ]
    },
    {
      "cell_type": "code",
      "execution_count": 7,
      "metadata": {
        "id": "izW6dMTw6ZXI"
      },
      "outputs": [],
      "source": [
        "from torch.utils.data import Dataset, DataLoader\n",
        "import cv2\n",
        "IMAGE_SIZE = 224\n",
        "class GenderAgeClass(Dataset):\n",
        "  def __init__(self, df, tfms=None):\n",
        "    self.df = df\n",
        "    self.normalize = transforms.Normalize(mean=[0.485, 0.456, 0.406], \n",
        "                                          std=[0.229, 0.224, 0.225])\n",
        "  def __len__(self): return len(self.df)\n",
        "  def __getitem__(self, ix):\n",
        "    f = self.df.iloc[ix].squeeze()\n",
        "    file = f.file\n",
        "    gen = f.gender == 'Female'\n",
        "    age = f.age\n",
        "    im = cv2.imread(file)\n",
        "    im = cv2.cvtColor(im, cv2.COLOR_BGR2RGB)\n",
        "    return im, age, gen\n",
        "\n",
        "  def preprocess_image(self, im):\n",
        "    im = cv2.resize(im, (IMAGE_SIZE, IMAGE_SIZE))\n",
        "    im = torch.tensor(im).permute(2,0,1)\n",
        "    im = self.normalize(im/255.)\n",
        "    return im[None]\n",
        "\n",
        "  def collate_fn(self, batch):\n",
        "    'preprocess images, ages and genders'\n",
        "    ims, ages, genders = [], [], []\n",
        "    for im, age, gender in batch:\n",
        "      im = self.preprocess_image(im)\n",
        "      ims.append(im)\n",
        "\n",
        "      ages.append(float(int(age)/80))\n",
        "      genders.append(float(gender))\n",
        "\n",
        "    ages, genders = [torch.tensor(x).to(device).float() for x in [ages, genders]]\n",
        "    ims = torch.cat(ims).to(device)\n",
        "\n",
        "    return ims, ages, genders"
      ]
    },
    {
      "cell_type": "code",
      "execution_count": 8,
      "metadata": {
        "id": "bAqSsitw69Rq"
      },
      "outputs": [],
      "source": [
        "trn = GenderAgeClass(trn_df)\n",
        "val = GenderAgeClass(val_df)"
      ]
    },
    {
      "cell_type": "code",
      "execution_count": 9,
      "metadata": {
        "colab": {
          "base_uri": "https://localhost:8080/"
        },
        "id": "roE-grmCbdBw",
        "outputId": "9b94d0bf-1a26-4c0f-9d64-827fc068e06e"
      },
      "outputs": [
        {
          "output_type": "stream",
          "name": "stdout",
          "text": [
            "torch.Size([32, 3, 224, 224]) torch.Size([32]) torch.Size([32])\n"
          ]
        }
      ],
      "source": [
        "device='cuda'\n",
        "train_loader = DataLoader(trn, batch_size=32, shuffle=True, drop_last=True, collate_fn=trn.collate_fn)\n",
        "test_loader = DataLoader(val, batch_size=32, collate_fn=val.collate_fn)\n",
        "a,b,c, = next(iter(train_loader))\n",
        "print(a.shape, b.shape, c.shape)\n",
        "     "
      ]
    },
    {
      "cell_type": "code",
      "execution_count": 10,
      "metadata": {
        "colab": {
          "base_uri": "https://localhost:8080/",
          "height": 154,
          "referenced_widgets": [
            "3ad1af8121624569b8b453e5bde2f1f7",
            "b414702938794294b1ee8c3bbfd8bb5e",
            "e08f860162c145c28a2e3f9233dc7aed",
            "0568a10260254644ab2753266f9d8421",
            "edcc7f15f16a4305b0b0d99373cfafa3",
            "c68353e8e3c54bc98dc6be31b4080d21",
            "dcc8692b0b284536b5adac37a0c477f1",
            "f2ccece89fdc4291a5132eb7e2ee1e55",
            "8e60fae740e2402fb133644f8ded223a",
            "7daa6d9eca5d4df6b1c107de8d60fa2b",
            "7a9f71e29fa248e7852dec6d4f55fa77"
          ]
        },
        "id": "VCLsKaH-697D",
        "outputId": "19e9d27f-25b4-4c64-ca96-fc056ee6b6b1"
      },
      "outputs": [
        {
          "output_type": "stream",
          "name": "stderr",
          "text": [
            "/usr/local/lib/python3.8/dist-packages/torchvision/models/_utils.py:208: UserWarning: The parameter 'pretrained' is deprecated since 0.13 and may be removed in the future, please use 'weights' instead.\n",
            "  warnings.warn(\n",
            "/usr/local/lib/python3.8/dist-packages/torchvision/models/_utils.py:223: UserWarning: Arguments other than a weight enum or `None` for 'weights' are deprecated since 0.13 and may be removed in the future. The current behavior is equivalent to passing `weights=VGG16_Weights.IMAGENET1K_V1`. You can also use `weights=VGG16_Weights.DEFAULT` to get the most up-to-date weights.\n",
            "  warnings.warn(msg)\n",
            "Downloading: \"https://download.pytorch.org/models/vgg16-397923af.pth\" to /root/.cache/torch/hub/checkpoints/vgg16-397923af.pth\n"
          ]
        },
        {
          "output_type": "display_data",
          "data": {
            "text/plain": [
              "  0%|          | 0.00/528M [00:00<?, ?B/s]"
            ],
            "application/vnd.jupyter.widget-view+json": {
              "version_major": 2,
              "version_minor": 0,
              "model_id": "3ad1af8121624569b8b453e5bde2f1f7"
            }
          },
          "metadata": {}
        }
      ],
      "source": [
        "def get_model():\n",
        "  model = models.vgg16(pretrained = True)\n",
        "  # Freeze parameters so we don't backprop through them\n",
        "  for param in model.parameters():\n",
        "    param.requires_grad = False\n",
        "  model.avgpool = nn.Sequential(\n",
        "    nn.Conv2d(512,512, kernel_size=3),\n",
        "    nn.MaxPool2d(2),\n",
        "    nn.ReLU(),\n",
        "    nn.Flatten()\n",
        "  )\n",
        "  class ageGenderClassifier(nn.Module):\n",
        "    def __init__(self):\n",
        "      super(ageGenderClassifier, self).__init__()\n",
        "      self.intermediate = nn.Sequential(\n",
        "        nn.Linear(2048,512),\n",
        "        nn.ReLU(),\n",
        "        nn.Dropout(0.4),\n",
        "        nn.Linear(512,128),\n",
        "        nn.ReLU(),\n",
        "        nn.Dropout(0.4),\n",
        "        nn.Linear(128,64),\n",
        "        nn.ReLU(),\n",
        "      )\n",
        "      self.age_classifier = nn.Sequential(\n",
        "        nn.Linear(64, 1),\n",
        "        nn.Sigmoid()\n",
        "      )\n",
        "      self.gender_classifier = nn.Sequential(\n",
        "        nn.Linear(64, 1),\n",
        "        nn.Sigmoid()\n",
        "      )\n",
        "    def forward(self, x):\n",
        "      x = self.intermediate(x)\n",
        "      age = self.age_classifier(x)\n",
        "      gender = self.gender_classifier(x)\n",
        "      return gender, age\n",
        "    \n",
        "  model.classifier = ageGenderClassifier()\n",
        "  \n",
        "  gender_criterion = nn.BCELoss()\n",
        "  age_criterion = nn.L1Loss()\n",
        "  loss_functions = gender_criterion, age_criterion\n",
        "  optimizer = torch.optim.Adam(model.parameters(), lr= 1e-4)\n",
        "  \n",
        "  return model.to(device), loss_functions, optimizer\n",
        "\n",
        "model, loss_functions, optimizer = get_model()"
      ]
    },
    {
      "cell_type": "code",
      "execution_count": 11,
      "metadata": {
        "colab": {
          "base_uri": "https://localhost:8080/"
        },
        "id": "6G1BNkZe-ai4",
        "outputId": "fb5569bb-77e2-44a0-8823-9756c5181739"
      },
      "outputs": [
        {
          "output_type": "stream",
          "name": "stdout",
          "text": [
            "Looking in indexes: https://pypi.org/simple, https://us-python.pkg.dev/colab-wheels/public/simple/\n",
            "Requirement already satisfied: torchsummary in /usr/local/lib/python3.8/dist-packages (1.5.1)\n",
            "----------------------------------------------------------------\n",
            "        Layer (type)               Output Shape         Param #\n",
            "================================================================\n",
            "            Conv2d-1         [-1, 64, 224, 224]           1,792\n",
            "              ReLU-2         [-1, 64, 224, 224]               0\n",
            "            Conv2d-3         [-1, 64, 224, 224]          36,928\n",
            "              ReLU-4         [-1, 64, 224, 224]               0\n",
            "         MaxPool2d-5         [-1, 64, 112, 112]               0\n",
            "            Conv2d-6        [-1, 128, 112, 112]          73,856\n",
            "              ReLU-7        [-1, 128, 112, 112]               0\n",
            "            Conv2d-8        [-1, 128, 112, 112]         147,584\n",
            "              ReLU-9        [-1, 128, 112, 112]               0\n",
            "        MaxPool2d-10          [-1, 128, 56, 56]               0\n",
            "           Conv2d-11          [-1, 256, 56, 56]         295,168\n",
            "             ReLU-12          [-1, 256, 56, 56]               0\n",
            "           Conv2d-13          [-1, 256, 56, 56]         590,080\n",
            "             ReLU-14          [-1, 256, 56, 56]               0\n",
            "           Conv2d-15          [-1, 256, 56, 56]         590,080\n",
            "             ReLU-16          [-1, 256, 56, 56]               0\n",
            "        MaxPool2d-17          [-1, 256, 28, 28]               0\n",
            "           Conv2d-18          [-1, 512, 28, 28]       1,180,160\n",
            "             ReLU-19          [-1, 512, 28, 28]               0\n",
            "           Conv2d-20          [-1, 512, 28, 28]       2,359,808\n",
            "             ReLU-21          [-1, 512, 28, 28]               0\n",
            "           Conv2d-22          [-1, 512, 28, 28]       2,359,808\n",
            "             ReLU-23          [-1, 512, 28, 28]               0\n",
            "        MaxPool2d-24          [-1, 512, 14, 14]               0\n",
            "           Conv2d-25          [-1, 512, 14, 14]       2,359,808\n",
            "             ReLU-26          [-1, 512, 14, 14]               0\n",
            "           Conv2d-27          [-1, 512, 14, 14]       2,359,808\n",
            "             ReLU-28          [-1, 512, 14, 14]               0\n",
            "           Conv2d-29          [-1, 512, 14, 14]       2,359,808\n",
            "             ReLU-30          [-1, 512, 14, 14]               0\n",
            "        MaxPool2d-31            [-1, 512, 7, 7]               0\n",
            "           Conv2d-32            [-1, 512, 5, 5]       2,359,808\n",
            "        MaxPool2d-33            [-1, 512, 2, 2]               0\n",
            "             ReLU-34            [-1, 512, 2, 2]               0\n",
            "          Flatten-35                 [-1, 2048]               0\n",
            "           Linear-36                  [-1, 512]       1,049,088\n",
            "             ReLU-37                  [-1, 512]               0\n",
            "          Dropout-38                  [-1, 512]               0\n",
            "           Linear-39                  [-1, 128]          65,664\n",
            "             ReLU-40                  [-1, 128]               0\n",
            "          Dropout-41                  [-1, 128]               0\n",
            "           Linear-42                   [-1, 64]           8,256\n",
            "             ReLU-43                   [-1, 64]               0\n",
            "           Linear-44                    [-1, 1]              65\n",
            "          Sigmoid-45                    [-1, 1]               0\n",
            "           Linear-46                    [-1, 1]              65\n",
            "          Sigmoid-47                    [-1, 1]               0\n",
            "ageGenderClassifier-48         [[-1, 1], [-1, 1]]               0\n",
            "================================================================\n",
            "Total params: 18,197,634\n",
            "Trainable params: 3,482,946\n",
            "Non-trainable params: 14,714,688\n",
            "----------------------------------------------------------------\n",
            "Input size (MB): 0.57\n",
            "Forward/backward pass size (MB): 218.55\n",
            "Params size (MB): 69.42\n",
            "Estimated Total Size (MB): 288.55\n",
            "----------------------------------------------------------------\n"
          ]
        }
      ],
      "source": [
        "!pip install torchsummary\n",
        "from torchsummary import summary\n",
        "summary(model, input_size=(3,224,224), device=device)"
      ]
    },
    {
      "cell_type": "code",
      "execution_count": 12,
      "metadata": {
        "id": "UsDamboX-wTQ"
      },
      "outputs": [],
      "source": [
        "def train_batch(data, model, optimizer, criteria):\n",
        "  model.train()\n",
        "  ims, age, gender = data\n",
        "  optimizer.zero_grad()\n",
        "  pred_gender, pred_age = model(ims)    \n",
        "  gender_criterion, age_criterion = criteria\n",
        "  gender_loss = gender_criterion(pred_gender.squeeze(), gender)\n",
        "  age_loss = age_criterion(pred_age.squeeze(), age)\n",
        "  total_loss = gender_loss + age_loss\n",
        "  total_loss.backward()\n",
        "  optimizer.step()\n",
        "  return total_loss"
      ]
    },
    {
      "cell_type": "code",
      "execution_count": 13,
      "metadata": {
        "id": "hkUH7Is7-yta"
      },
      "outputs": [],
      "source": [
        "def validate_batch(data, model, criteria):\n",
        "  model.eval()\n",
        "  ims, age, gender = data\n",
        "  with torch.no_grad():\n",
        "    pred_gender, pred_age = model(ims)\n",
        "  gender_criterion, age_criterion = criteria\n",
        "  gender_loss = gender_criterion(pred_gender.squeeze(), gender)\n",
        "  age_loss = age_criterion(pred_age.squeeze(), age)\n",
        "  total_loss = gender_loss + age_loss\n",
        "  pred_gender = (pred_gender > 0.5).squeeze()\n",
        "  gender_acc = (pred_gender == gender).float().sum()\n",
        "  age_mae = torch.abs(age - pred_age).float().sum()\n",
        "  return total_loss, gender_acc, age_mae"
      ]
    },
    {
      "cell_type": "code",
      "execution_count": 14,
      "metadata": {
        "colab": {
          "base_uri": "https://localhost:8080/"
        },
        "id": "t2U9GP3S_ChF",
        "outputId": "20ffcecb-9872-412a-da70-2db18a181d01"
      },
      "outputs": [
        {
          "output_type": "stream",
          "name": "stdout",
          "text": [
            "1/5 (524.50s - 2622.48s remaining)\n",
            "Epoch: 001\tTrain Loss: 0.549\tTest: 0.461\tBest Test Loss: 0.4607\n",
            "Gender Accuracy: 84.01%\tAge MAE: 6.15\n",
            "\n",
            "2/5 (1039.00s - 2078.00s remaining)\n",
            "Epoch: 002\tTrain Loss: 0.401\tTest: 0.441\tBest Test Loss: 0.4407\n",
            "Gender Accuracy: 84.75%\tAge MAE: 6.22\n",
            "\n",
            "3/5 (1551.74s - 1551.74s remaining)\n",
            "Epoch: 003\tTrain Loss: 0.283\tTest: 0.520\tBest Test Loss: 0.4407\n",
            "Gender Accuracy: 84.49%\tAge MAE: 6.36\n",
            "\n",
            "4/5 (2060.17s - 1030.09s remaining)\n",
            "Epoch: 004\tTrain Loss: 0.197\tTest: 0.640\tBest Test Loss: 0.4407\n",
            "Gender Accuracy: 84.22%\tAge MAE: 6.33\n",
            "\n",
            "5/5 (2572.57s - 514.51s remaining)\n",
            "Epoch: 005\tTrain Loss: 0.156\tTest: 0.695\tBest Test Loss: 0.4407\n",
            "Gender Accuracy: 84.15%\tAge MAE: 6.33\n",
            "\n"
          ]
        }
      ],
      "source": [
        "model, criteria, optimizer = get_model()\n",
        "val_gender_accuracies = []\n",
        "val_age_maes = []\n",
        "train_losses = []\n",
        "val_losses = []\n",
        "\n",
        "n_epochs = 5\n",
        "best_test_loss = 1000\n",
        "start = time.time()\n",
        "\n",
        "for epoch in range(n_epochs):\n",
        "  epoch_train_loss, epoch_test_loss = 0, 0\n",
        "  val_age_mae, val_gender_acc, ctr = 0, 0, 0\n",
        "  _n = len(train_loader)\n",
        "  for ix, data in enumerate(train_loader):\n",
        "    # if ix == 100: break\n",
        "    loss = train_batch(data, model, optimizer, criteria)\n",
        "    epoch_train_loss += loss.item()\n",
        "\n",
        "  for ix, data in enumerate(test_loader):\n",
        "    # if ix == 10: break\n",
        "    loss, gender_acc, age_mae = validate_batch(data, model, criteria)\n",
        "    epoch_test_loss += loss.item()\n",
        "    val_age_mae += age_mae\n",
        "    val_gender_acc += gender_acc\n",
        "    ctr += len(data[0])\n",
        "\n",
        "  val_age_mae /= ctr\n",
        "  val_gender_acc /= ctr\n",
        "  epoch_train_loss /= len(train_loader)\n",
        "  epoch_test_loss /= len(test_loader)\n",
        "\n",
        "  elapsed = time.time()-start\n",
        "  best_test_loss = min(best_test_loss, epoch_test_loss)\n",
        "  print('{}/{} ({:.2f}s - {:.2f}s remaining)'.format(epoch+1, n_epochs, time.time()-start, (n_epochs-epoch)*(elapsed/(epoch+1))))\n",
        "  info = f'''Epoch: {epoch+1:03d}\\tTrain Loss: {epoch_train_loss:.3f}\\tTest: {epoch_test_loss:.3f}\\tBest Test Loss: {best_test_loss:.4f}'''\n",
        "  info += f'\\nGender Accuracy: {val_gender_acc*100:.2f}%\\tAge MAE: {val_age_mae:.2f}\\n'\n",
        "  print(info)\n",
        "\n",
        "  val_gender_accuracies.append(val_gender_acc)\n",
        "  val_age_maes.append(val_age_mae)"
      ]
    },
    {
      "cell_type": "code",
      "source": [
        "np_gender_acc = [val_gender_accuracies[row].detach().cpu().numpy() for row in range(5)]"
      ],
      "metadata": {
        "id": "682gMlBy9CH9"
      },
      "execution_count": 31,
      "outputs": []
    },
    {
      "cell_type": "code",
      "source": [
        "np_val_age_maes = [val_age_maes[row].detach().cpu().numpy() for row in range(5)]"
      ],
      "metadata": {
        "id": "53xE8nh7_gHk"
      },
      "execution_count": 34,
      "outputs": []
    },
    {
      "cell_type": "code",
      "execution_count": 35,
      "metadata": {
        "id": "NS_vtfys_Nfb",
        "colab": {
          "base_uri": "https://localhost:8080/",
          "height": 350
        },
        "outputId": "f5ce3ae2-cea2-433f-f8fd-8b351f88cad1"
      },
      "outputs": [
        {
          "output_type": "display_data",
          "data": {
            "text/plain": [
              "<Figure size 720x360 with 2 Axes>"
            ],
            "image/png": "[encoded data removed]"
          },
          "metadata": {
            "needs_background": "light"
          }
        }
      ],
      "source": [
        "epochs = np.arange(1,len(val_gender_accuracies)+1)\n",
        "fig,ax = plt.subplots(1,2,figsize=(10,5))\n",
        "ax = ax.flat\n",
        "ax[0].plot(epochs, np_gender_acc, 'bo')\n",
        "ax[1].plot(epochs, np_val_age_maes, 'r')\n",
        "ax[0].set_xlabel('Epochs')\n",
        "ax[1].set_xlabel('Epochs')\n",
        "ax[0].set_ylabel('Accuracy')\n",
        "ax[1].set_ylabel('MAE')\n",
        "ax[0].set_title('Validation Gender Accuracy')\n",
        "ax[0].set_title('Validation Age Mean-Absolute-Error')\n",
        "plt.show()"
      ]
    },
    {
      "cell_type": "markdown",
      "metadata": {
        "id": "0EvvmJGBeMn_"
      },
      "source": [
        "## Lets now evaluate this algorithm on the following image (courtesy of former European model Ms. Kuta):"
      ]
    },
    {
      "cell_type": "code",
      "execution_count": 37,
      "metadata": {
        "id": "gX-q9pav_Uuq",
        "colab": {
          "base_uri": "https://localhost:8080/",
          "height": 286
        },
        "outputId": "22379eb7-cec8-480c-9368-8d6e6a45687f"
      },
      "outputs": [
        {
          "output_type": "stream",
          "name": "stdout",
          "text": [
            "predicted gender: Female ; Predicted age 25\n"
          ]
        },
        {
          "output_type": "display_data",
          "data": {
            "text/plain": [
              "<Figure size 432x288 with 1 Axes>"
            ],
            "image/png": "[encoded data removed]"
          },
          "metadata": {
            "needs_background": "light"
          }
        }
      ],
      "source": [
        "#!wget https://www.dropbox.com/s/6kzr8l68e9kpjkf/5_9.JPG\n",
        "im = cv2.imread('/content/kuta.JPG')\n",
        "im = trn.preprocess_image(im).to(device)\n",
        "gender, age = model(im)\n",
        "pred_gender = gender.to('cpu').detach().numpy()\n",
        "pred_age = age.to('cpu').detach().numpy()\n",
        "im = cv2.imread('/content/kuta.JPG')\n",
        "im = cv2.cvtColor(im, cv2.COLOR_BGR2RGB)\n",
        "plt.imshow(im)\n",
        "print('predicted gender:',np.where(pred_gender[0][0]<0.5,'Male','Female'), '; Predicted age', int(pred_age[0][0]*80))"
      ]
    },
    {
      "cell_type": "markdown",
      "source": [
        "## Gender was predicted correclty and age, although a little younger than actual (but not much really), is within acceptable. Note that the A.I. was trained for just 5 epochs and can be greatly improved. "
      ],
      "metadata": {
        "id": "Qhu5wlF_AU0-"
      }
    },
    {
      "cell_type": "code",
      "source": [],
      "metadata": {
        "id": "aPO_76vzA6Qe"
      },
      "execution_count": null,
      "outputs": []
    }
  ],
  "metadata": {
    "accelerator": "GPU",
    "colab": {
      "provenance": []
    },
    "gpuClass": "premium",
    "kernelspec": {
      "display_name": "Python 3",
      "name": "python3"
    },
    "language_info": {
      "name": "python"
    },
    "widgets": {
      "application/vnd.jupyter.widget-state+json": {
        "3ad1af8121624569b8b453e5bde2f1f7": {
          "model_module": "@jupyter-widgets/controls",
          "model_name": "HBoxModel",
          "model_module_version": "1.5.0",
          "state": {
            "_dom_classes": [],
            "_model_module": "@jupyter-widgets/controls",
            "_model_module_version": "1.5.0",
            "_model_name": "HBoxModel",
            "_view_count": null,
            "_view_module": "@jupyter-widgets/controls",
            "_view_module_version": "1.5.0",
            "_view_name": "HBoxView",
            "box_style": "",
            "children": [
              "IPY_MODEL_b414702938794294b1ee8c3bbfd8bb5e",
              "IPY_MODEL_e08f860162c145c28a2e3f9233dc7aed",
              "IPY_MODEL_0568a10260254644ab2753266f9d8421"
            ],
            "layout": "IPY_MODEL_edcc7f15f16a4305b0b0d99373cfafa3"
          }
        },
        "b414702938794294b1ee8c3bbfd8bb5e": {
          "model_module": "@jupyter-widgets/controls",
          "model_name": "HTMLModel",
          "model_module_version": "1.5.0",
          "state": {
            "_dom_classes": [],
            "_model_module": "@jupyter-widgets/controls",
            "_model_module_version": "1.5.0",
            "_model_name": "HTMLModel",
            "_view_count": null,
            "_view_module": "@jupyter-widgets/controls",
            "_view_module_version": "1.5.0",
            "_view_name": "HTMLView",
            "description": "",
            "description_tooltip": null,
            "layout": "IPY_MODEL_c68353e8e3c54bc98dc6be31b4080d21",
            "placeholder": "​",
            "style": "IPY_MODEL_dcc8692b0b284536b5adac37a0c477f1",
            "value": "100%"
          }
        },
        "e08f860162c145c28a2e3f9233dc7aed": {
          "model_module": "@jupyter-widgets/controls",
          "model_name": "FloatProgressModel",
          "model_module_version": "1.5.0",
          "state": {
            "_dom_classes": [],
            "_model_module": "@jupyter-widgets/controls",
            "_model_module_version": "1.5.0",
            "_model_name": "FloatProgressModel",
            "_view_count": null,
            "_view_module": "@jupyter-widgets/controls",
            "_view_module_version": "1.5.0",
            "_view_name": "ProgressView",
            "bar_style": "success",
            "description": "",
            "description_tooltip": null,
            "layout": "IPY_MODEL_f2ccece89fdc4291a5132eb7e2ee1e55",
            "max": 553433881,
            "min": 0,
            "orientation": "horizontal",
            "style": "IPY_MODEL_8e60fae740e2402fb133644f8ded223a",
            "value": 553433881
          }
        },
        "0568a10260254644ab2753266f9d8421": {
          "model_module": "@jupyter-widgets/controls",
          "model_name": "HTMLModel",
          "model_module_version": "1.5.0",
          "state": {
            "_dom_classes": [],
            "_model_module": "@jupyter-widgets/controls",
            "_model_module_version": "1.5.0",
            "_model_name": "HTMLModel",
            "_view_count": null,
            "_view_module": "@jupyter-widgets/controls",
            "_view_module_version": "1.5.0",
            "_view_name": "HTMLView",
            "description": "",
            "description_tooltip": null,
            "layout": "IPY_MODEL_7daa6d9eca5d4df6b1c107de8d60fa2b",
            "placeholder": "​",
            "style": "IPY_MODEL_7a9f71e29fa248e7852dec6d4f55fa77",
            "value": " 528M/528M [00:02&lt;00:00, 277MB/s]"
          }
        },
        "edcc7f15f16a4305b0b0d99373cfafa3": {
          "model_module": "@jupyter-widgets/base",
          "model_name": "LayoutModel",
          "model_module_version": "1.2.0",
          "state": {
            "_model_module": "@jupyter-widgets/base",
            "_model_module_version": "1.2.0",
            "_model_name": "LayoutModel",
            "_view_count": null,
            "_view_module": "@jupyter-widgets/base",
            "_view_module_version": "1.2.0",
            "_view_name": "LayoutView",
            "align_content": null,
            "align_items": null,
            "align_self": null,
            "border": null,
            "bottom": null,
            "display": null,
            "flex": null,
            "flex_flow": null,
            "grid_area": null,
            "grid_auto_columns": null,
            "grid_auto_flow": null,
            "grid_auto_rows": null,
            "grid_column": null,
            "grid_gap": null,
            "grid_row": null,
            "grid_template_areas": null,
            "grid_template_columns": null,
            "grid_template_rows": null,
            "height": null,
            "justify_content": null,
            "justify_items": null,
            "left": null,
            "margin": null,
            "max_height": null,
            "max_width": null,
            "min_height": null,
            "min_width": null,
            "object_fit": null,
            "object_position": null,
            "order": null,
            "overflow": null,
            "overflow_x": null,
            "overflow_y": null,
            "padding": null,
            "right": null,
            "top": null,
            "visibility": null,
            "width": null
          }
        },
        "c68353e8e3c54bc98dc6be31b4080d21": {
          "model_module": "@jupyter-widgets/base",
          "model_name": "LayoutModel",
          "model_module_version": "1.2.0",
          "state": {
            "_model_module": "@jupyter-widgets/base",
            "_model_module_version": "1.2.0",
            "_model_name": "LayoutModel",
            "_view_count": null,
            "_view_module": "@jupyter-widgets/base",
            "_view_module_version": "1.2.0",
            "_view_name": "LayoutView",
            "align_content": null,
            "align_items": null,
            "align_self": null,
            "border": null,
            "bottom": null,
            "display": null,
            "flex": null,
            "flex_flow": null,
            "grid_area": null,
            "grid_auto_columns": null,
            "grid_auto_flow": null,
            "grid_auto_rows": null,
            "grid_column": null,
            "grid_gap": null,
            "grid_row": null,
            "grid_template_areas": null,
            "grid_template_columns": null,
            "grid_template_rows": null,
            "height": null,
            "justify_content": null,
            "justify_items": null,
            "left": null,
            "margin": null,
            "max_height": null,
            "max_width": null,
            "min_height": null,
            "min_width": null,
            "object_fit": null,
            "object_position": null,
            "order": null,
            "overflow": null,
            "overflow_x": null,
            "overflow_y": null,
            "padding": null,
            "right": null,
            "top": null,
            "visibility": null,
            "width": null
          }
        },
        "dcc8692b0b284536b5adac37a0c477f1": {
          "model_module": "@jupyter-widgets/controls",
          "model_name": "DescriptionStyleModel",
          "model_module_version": "1.5.0",
          "state": {
            "_model_module": "@jupyter-widgets/controls",
            "_model_module_version": "1.5.0",
            "_model_name": "DescriptionStyleModel",
            "_view_count": null,
            "_view_module": "@jupyter-widgets/base",
            "_view_module_version": "1.2.0",
            "_view_name": "StyleView",
            "description_width": ""
          }
        },
        "f2ccece89fdc4291a5132eb7e2ee1e55": {
          "model_module": "@jupyter-widgets/base",
          "model_name": "LayoutModel",
          "model_module_version": "1.2.0",
          "state": {
            "_model_module": "@jupyter-widgets/base",
            "_model_module_version": "1.2.0",
            "_model_name": "LayoutModel",
            "_view_count": null,
            "_view_module": "@jupyter-widgets/base",
            "_view_module_version": "1.2.0",
            "_view_name": "LayoutView",
            "align_content": null,
            "align_items": null,
            "align_self": null,
            "border": null,
            "bottom": null,
            "display": null,
            "flex": null,
            "flex_flow": null,
            "grid_area": null,
            "grid_auto_columns": null,
            "grid_auto_flow": null,
            "grid_auto_rows": null,
            "grid_column": null,
            "grid_gap": null,
            "grid_row": null,
            "grid_template_areas": null,
            "grid_template_columns": null,
            "grid_template_rows": null,
            "height": null,
            "justify_content": null,
            "justify_items": null,
            "left": null,
            "margin": null,
            "max_height": null,
            "max_width": null,
            "min_height": null,
            "min_width": null,
            "object_fit": null,
            "object_position": null,
            "order": null,
            "overflow": null,
            "overflow_x": null,
            "overflow_y": null,
            "padding": null,
            "right": null,
            "top": null,
            "visibility": null,
            "width": null
          }
        },
        "8e60fae740e2402fb133644f8ded223a": {
          "model_module": "@jupyter-widgets/controls",
          "model_name": "ProgressStyleModel",
          "model_module_version": "1.5.0",
          "state": {
            "_model_module": "@jupyter-widgets/controls",
            "_model_module_version": "1.5.0",
            "_model_name": "ProgressStyleModel",
            "_view_count": null,
            "_view_module": "@jupyter-widgets/base",
            "_view_module_version": "1.2.0",
            "_view_name": "StyleView",
            "bar_color": null,
            "description_width": ""
          }
        },
        "7daa6d9eca5d4df6b1c107de8d60fa2b": {
          "model_module": "@jupyter-widgets/base",
          "model_name": "LayoutModel",
          "model_module_version": "1.2.0",
          "state": {
            "_model_module": "@jupyter-widgets/base",
            "_model_module_version": "1.2.0",
            "_model_name": "LayoutModel",
            "_view_count": null,
            "_view_module": "@jupyter-widgets/base",
            "_view_module_version": "1.2.0",
            "_view_name": "LayoutView",
            "align_content": null,
            "align_items": null,
            "align_self": null,
            "border": null,
            "bottom": null,
            "display": null,
            "flex": null,
            "flex_flow": null,
            "grid_area": null,
            "grid_auto_columns": null,
            "grid_auto_flow": null,
            "grid_auto_rows": null,
            "grid_column": null,
            "grid_gap": null,
            "grid_row": null,
            "grid_template_areas": null,
            "grid_template_columns": null,
            "grid_template_rows": null,
            "height": null,
            "justify_content": null,
            "justify_items": null,
            "left": null,
            "margin": null,
            "max_height": null,
            "max_width": null,
            "min_height": null,
            "min_width": null,
            "object_fit": null,
            "object_position": null,
            "order": null,
            "overflow": null,
            "overflow_x": null,
            "overflow_y": null,
            "padding": null,
            "right": null,
            "top": null,
            "visibility": null,
            "width": null
          }
        },
        "7a9f71e29fa248e7852dec6d4f55fa77": {
          "model_module": "@jupyter-widgets/controls",
          "model_name": "DescriptionStyleModel",
          "model_module_version": "1.5.0",
          "state": {
            "_model_module": "@jupyter-widgets/controls",
            "_model_module_version": "1.5.0",
            "_model_name": "DescriptionStyleModel",
            "_view_count": null,
            "_view_module": "@jupyter-widgets/base",
            "_view_module_version": "1.2.0",
            "_view_name": "StyleView",
            "description_width": ""
          }
        }
      }
    }
  },
  "nbformat": 4,
  "nbformat_minor": 0
}