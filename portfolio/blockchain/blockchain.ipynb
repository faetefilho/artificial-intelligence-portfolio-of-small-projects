{
 "cells": [
  {
   "cell_type": "code",
   "execution_count": 3,
   "metadata": {},
   "outputs": [],
   "source": [
    "import hashlib\n",
    "import json\n",
    "from time import time"
   ]
  },
  {
   "cell_type": "code",
   "execution_count": 8,
   "metadata": {},
   "outputs": [],
   "source": [
    "class Blockchain(object):\n",
    "    def __init__(self):\n",
    "        self.chain = []\n",
    "        self.pending_transactions = []\n",
    "\n",
    "        self.new_block(previous_hash=\"The Times 03/Jan/2009 Chancellor on brink of second bailout for banks.\", proof=100)\n",
    "\n",
    "# Create a new block listing key/value pairs of block information in a JSON object. \n",
    "# Reset the list of pending transactions & append the newest block to the chain.\n",
    "\n",
    "    def new_block(self, proof, previous_hash=None):\n",
    "        # This is where mining comes into play according to the difficulty level of the block.\n",
    "        # The more difficult the block, the longer it takes to mine. (This feature is not implemented here.)\n",
    "        block = {\n",
    "            'index': len(self.chain) + 1,\n",
    "            'timestamp': time(),\n",
    "            'transactions': self.pending_transactions,\n",
    "            'proof': proof,\n",
    "            'previous_hash': previous_hash or self.hash(self.chain[-1]),\n",
    "        }\n",
    "\n",
    "        self.pending_transactions = []\n",
    "        self.chain.append(block)\n",
    "\n",
    "        return block\n",
    "\n",
    "#Search the blockchain for the most recent block.\n",
    "\n",
    "    @property # This decorator allows you to access the method like an attribute without ().\n",
    "    def last_block(self):\n",
    " \n",
    "        return self.chain[-1]\n",
    "\n",
    "# Add a transaction with relevant info to the 'blockpool' - list of pending tx's. \n",
    "\n",
    "\n",
    "    def new_transaction(self, sender, recipient, amount):\n",
    "        transaction = {\n",
    "            'sender': sender,\n",
    "            'recipient': recipient,\n",
    "            'amount': amount\n",
    "        }\n",
    "        self.pending_transactions.append(transaction)\n",
    "        # \n",
    "        return self.last_block['index'] + 1\n",
    "\n",
    "# receive one block, turn it into a string, turn that into Unicode (for hashing). \n",
    "# Hash with SHA256 encryption, then translate the Unicode into a hexidecimal string.\n",
    "\n",
    "    def hash(self, block):\n",
    "        string_object = json.dumps(block, sort_keys=True)\n",
    "        block_string = string_object.encode()\n",
    "\n",
    "        raw_hash = hashlib.sha256(block_string)\n",
    "        hex_hash = raw_hash.hexdigest()\n",
    "\n",
    "        return hex_hash\n"
   ]
  },
  {
   "cell_type": "code",
   "execution_count": 4,
   "metadata": {},
   "outputs": [],
   "source": [
    "blockchain = Blockchain()\n",
    "t1 = blockchain.new_transaction(\"Satoshi\", \"Mike\", '5 BTC')"
   ]
  },
  {
   "cell_type": "code",
   "execution_count": 6,
   "metadata": {},
   "outputs": [
    {
     "name": "stdout",
     "output_type": "stream",
     "text": [
      "[{'index': 1, 'timestamp': 1698510477.4306285, 'transactions': [{'sender': 'Satoshi', 'recipient': 'Mike', 'amount': '5 BTC'}], 'proof': 100, 'previous_hash': 'The Times 03/Jan/2009 Chancellor on brink of second bailout for banks.'}]\n",
      "hex hash: e31b92fda07c36e25055df5fb60b9e933e0d3b07f5850bd63f979fc3b21ae844\n"
     ]
    }
   ],
   "source": [
    "# lets explore the class a bit\n",
    "\n",
    "chain =[]\n",
    "previous_hash=\"The Times 03/Jan/2009 Chancellor on brink of second bailout for banks.\"\n",
    "proof=100\n",
    "pending_transactions = []\n",
    "# Lets create a transaction\n",
    "transaction = {\n",
    "'sender': \"Satoshi\",\n",
    "'recipient': \"Mike\",\n",
    "'amount': '5 BTC'\n",
    "}\n",
    "pending_transactions.append(transaction)\n",
    "# Lets create a block\n",
    "\n",
    "block1 = {\n",
    "            'index': len(chain) + 1,\n",
    "            'timestamp': time(),\n",
    "            'transactions': pending_transactions,\n",
    "            'proof': proof,\n",
    "            'previous_hash': previous_hash,\n",
    "        }\n",
    "\n",
    "pending_transactions = []\n",
    "\n",
    "chain.append(block1)\n",
    "print(chain)\n",
    "\n",
    "# lets do a hash on the last block\n",
    "string_object = json.dumps(chain[-1], sort_keys=True)\n",
    "block_string = string_object.encode()\n",
    "\n",
    "raw_hash = hashlib.sha256(block_string)\n",
    "# print(\"raw hash: \" + raw_hash)\n",
    "hex_hash = raw_hash.hexdigest()\n",
    "print(\"hex hash: \" + hex_hash)\n",
    "\n"
   ]
  },
  {
   "cell_type": "code",
   "execution_count": 6,
   "metadata": {},
   "outputs": [
    {
     "data": {
      "text/plain": [
       "[{'index': 1,\n",
       "  'timestamp': 1698491544.3407729,\n",
       "  'transactions': [],\n",
       "  'proof': 100,\n",
       "  'previous_hash': 'The Times 03/Jan/2009 Chancellor on brink of second bailout for banks.'}]"
      ]
     },
     "execution_count": 6,
     "metadata": {},
     "output_type": "execute_result"
    }
   ],
   "source": [
    "blockchain.chain"
   ]
  },
  {
   "cell_type": "code",
   "execution_count": 9,
   "metadata": {},
   "outputs": [
    {
     "name": "stdout",
     "output_type": "stream",
     "text": [
      "Genesis block:  [{'index': 1, 'timestamp': 1698510522.8601284, 'transactions': [], 'proof': 100, 'previous_hash': 'The Times 03/Jan/2009 Chancellor on brink of second bailout for banks.'}, {'index': 2, 'timestamp': 1698510522.8611276, 'transactions': [{'sender': 'Satoshi', 'recipient': 'Mike', 'amount': '5 BTC'}, {'sender': 'Mike', 'recipient': 'Satoshi', 'amount': '1 BTC'}, {'sender': 'Satoshi', 'recipient': 'Hal Finney', 'amount': '5 BTC'}], 'proof': 12345, 'previous_hash': 'e5c311d31a2e7b72c02912878d73326f1ab674d33abac6618f1c3a9f3c06a804'}, {'index': 3, 'timestamp': 1698510522.8611276, 'transactions': [{'sender': 'Mike', 'recipient': 'Alice', 'amount': '1 BTC'}, {'sender': 'Alice', 'recipient': 'Bob', 'amount': '0.5 BTC'}, {'sender': 'Bob', 'recipient': 'Mike', 'amount': '0.5 BTC'}], 'proof': 6789, 'previous_hash': '12daaeb7b73f1ecb9d489e0cc8b74b819d6f320dd5b54553fff8df7e5dde4da2'}]\n"
     ]
    }
   ],
   "source": [
    "blockchain = Blockchain()\n",
    "t1 = blockchain.new_transaction(\"Satoshi\", \"Mike\", '5 BTC')\n",
    "t2 = blockchain.new_transaction(\"Mike\", \"Satoshi\", '1 BTC')\n",
    "t3 = blockchain.new_transaction(\"Satoshi\", \"Hal Finney\", '5 BTC')\n",
    "blockchain.new_block(12345)\n",
    "\n",
    "t4 = blockchain.new_transaction(\"Mike\", \"Alice\", '1 BTC')\n",
    "t5 = blockchain.new_transaction(\"Alice\", \"Bob\", '0.5 BTC')\n",
    "t6 = blockchain.new_transaction(\"Bob\", \"Mike\", '0.5 BTC')\n",
    "blockchain.new_block(6789)\n",
    "\n",
    "print(\"Genesis block: \", blockchain.chain)"
   ]
  }
 ],
 "metadata": {
  "kernelspec": {
   "display_name": "gpu-env",
   "language": "python",
   "name": "python3"
  },
  "language_info": {
   "codemirror_mode": {
    "name": "ipython",
    "version": 3
   },
   "file_extension": ".py",
   "mimetype": "text/x-python",
   "name": "python",
   "nbconvert_exporter": "python",
   "pygments_lexer": "ipython3",
   "version": "3.10.9"
  }
 },
 "nbformat": 4,
 "nbformat_minor": 2
}
